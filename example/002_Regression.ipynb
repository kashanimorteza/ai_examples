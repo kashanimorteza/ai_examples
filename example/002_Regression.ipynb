{
 "cells": [
  {
   "cell_type": "code",
   "execution_count": 2,
   "id": "ef91fb59-c250-4f29-95c8-846d322f5b5c",
   "metadata": {},
   "outputs": [],
   "source": [
    "#Regression"
   ]
  },
  {
   "cell_type": "code",
   "execution_count": 15,
   "id": "35c2dc1c-68a8-482d-af8f-73ab6042f5f5",
   "metadata": {},
   "outputs": [],
   "source": [
    "from sklearn.datasets import make_regression"
   ]
  },
  {
   "cell_type": "code",
   "execution_count": null,
   "id": "b3b4a743-8350-41bc-b4fd-6a4a28c766e9",
   "metadata": {},
   "outputs": [],
   "source": [
    "data = make_regression(n_samples=1000, n_features=5, noise=0.2, random_state=42)"
   ]
  },
  {
   "cell_type": "code",
   "execution_count": 17,
   "id": "caed1599-448a-4376-8eb5-440850bb34b6",
   "metadata": {},
   "outputs": [],
   "source": [
    "X= data[0]"
   ]
  },
  {
   "cell_type": "code",
   "execution_count": 18,
   "id": "ad0dbddd-9bf5-4a6c-be77-119cbdbb4000",
   "metadata": {},
   "outputs": [],
   "source": [
    "y = data[1]"
   ]
  },
  {
   "cell_type": "code",
   "execution_count": 19,
   "id": "5cbf207c-0511-47f9-b1d2-7b726bbe4bb0",
   "metadata": {},
   "outputs": [
    {
     "data": {
      "text/plain": [
       "array([ 2.05654356,  0.60685059,  0.48268789, -1.13088844,  0.42009449])"
      ]
     },
     "execution_count": 19,
     "metadata": {},
     "output_type": "execute_result"
    }
   ],
   "source": [
    "X[0]"
   ]
  },
  {
   "cell_type": "code",
   "execution_count": 20,
   "id": "8c1bcfb1-3bff-4749-afe3-3a5e8c0b7958",
   "metadata": {},
   "outputs": [
    {
     "data": {
      "text/plain": [
       "np.float64(74.8638525346159)"
      ]
     },
     "execution_count": 20,
     "metadata": {},
     "output_type": "execute_result"
    }
   ],
   "source": [
    "y[0]"
   ]
  },
  {
   "cell_type": "code",
   "execution_count": 21,
   "id": "4b014273-c1d1-4c01-826e-159a6a3ab90e",
   "metadata": {},
   "outputs": [],
   "source": [
    "from sklearn.preprocessing import StandardScaler"
   ]
  },
  {
   "cell_type": "code",
   "execution_count": 22,
   "id": "119a6229-aa92-4720-ab47-53d05ee3c2fb",
   "metadata": {},
   "outputs": [],
   "source": [
    "scaler = StandardScaler()"
   ]
  },
  {
   "cell_type": "code",
   "execution_count": 23,
   "id": "4441d016-72c0-4858-ad02-35999733f477",
   "metadata": {},
   "outputs": [],
   "source": [
    "X = scaler.fit_transform(X)"
   ]
  },
  {
   "cell_type": "code",
   "execution_count": 24,
   "id": "fd742f4c-cf6e-4f46-9781-5e82215be505",
   "metadata": {},
   "outputs": [],
   "source": [
    "from sklearn.model_selection import train_test_split"
   ]
  },
  {
   "cell_type": "code",
   "execution_count": 25,
   "id": "a41b657c-a5f2-46f7-abc1-f55aa0480d3c",
   "metadata": {},
   "outputs": [],
   "source": [
    "X_train, X_test, y_train, y_test = train_test_split(X,y,test_size=0.2)"
   ]
  },
  {
   "cell_type": "code",
   "execution_count": 39,
   "id": "7570d6bc-702b-4546-b04e-433376cb6276",
   "metadata": {},
   "outputs": [
    {
     "data": {
      "text/plain": [
       "(800, 5)"
      ]
     },
     "execution_count": 39,
     "metadata": {},
     "output_type": "execute_result"
    }
   ],
   "source": [
    "X_train.shape"
   ]
  },
  {
   "cell_type": "code",
   "execution_count": 40,
   "id": "026dce5b-3443-4fe0-8d59-d6e37dc3b948",
   "metadata": {},
   "outputs": [
    {
     "data": {
      "text/plain": [
       "(800,)"
      ]
     },
     "execution_count": 40,
     "metadata": {},
     "output_type": "execute_result"
    }
   ],
   "source": [
    "y_train.shape"
   ]
  },
  {
   "cell_type": "code",
   "execution_count": 28,
   "id": "5b7c4a9b-c059-4071-978a-11a073b8a2cf",
   "metadata": {},
   "outputs": [],
   "source": [
    "import keras"
   ]
  },
  {
   "cell_type": "code",
   "execution_count": 29,
   "id": "c9cce096-8c71-4cca-a7e4-30159dd0479a",
   "metadata": {},
   "outputs": [],
   "source": [
    "model = keras.models.Sequential()\n",
    "model.add(keras.layers.Input(shape=(5,)))\n",
    "model.add(keras.layers.Dense(units=16, activation='relu'))\n",
    "model.add(keras.layers.Dense(units=16, activation='relu'))\n",
    "model.add(keras.layers.Dense(units=1, activation='linear'))"
   ]
  },
  {
   "cell_type": "code",
   "execution_count": 30,
   "id": "c772d932-f3db-4a90-9c5d-45b2015cdf73",
   "metadata": {
    "collapsed": true,
    "jupyter": {
     "outputs_hidden": true
    },
    "scrolled": true
   },
   "outputs": [
    {
     "data": {
      "text/html": [
       "<pre style=\"white-space:pre;overflow-x:auto;line-height:normal;font-family:Menlo,'DejaVu Sans Mono',consolas,'Courier New',monospace\"><span style=\"font-weight: bold\">Model: \"sequential\"</span>\n",
       "</pre>\n"
      ],
      "text/plain": [
       "\u001b[1mModel: \"sequential\"\u001b[0m\n"
      ]
     },
     "metadata": {},
     "output_type": "display_data"
    },
    {
     "data": {
      "text/html": [
       "<pre style=\"white-space:pre;overflow-x:auto;line-height:normal;font-family:Menlo,'DejaVu Sans Mono',consolas,'Courier New',monospace\">┏━━━━━━━━━━━━━━━━━━━━━━━━━━━━━━━━━┳━━━━━━━━━━━━━━━━━━━━━━━━┳━━━━━━━━━━━━━━━┓\n",
       "┃<span style=\"font-weight: bold\"> Layer (type)                    </span>┃<span style=\"font-weight: bold\"> Output Shape           </span>┃<span style=\"font-weight: bold\">       Param # </span>┃\n",
       "┡━━━━━━━━━━━━━━━━━━━━━━━━━━━━━━━━━╇━━━━━━━━━━━━━━━━━━━━━━━━╇━━━━━━━━━━━━━━━┩\n",
       "│ dense (<span style=\"color: #0087ff; text-decoration-color: #0087ff\">Dense</span>)                   │ (<span style=\"color: #00d7ff; text-decoration-color: #00d7ff\">None</span>, <span style=\"color: #00af00; text-decoration-color: #00af00\">16</span>)             │            <span style=\"color: #00af00; text-decoration-color: #00af00\">96</span> │\n",
       "├─────────────────────────────────┼────────────────────────┼───────────────┤\n",
       "│ dense_1 (<span style=\"color: #0087ff; text-decoration-color: #0087ff\">Dense</span>)                 │ (<span style=\"color: #00d7ff; text-decoration-color: #00d7ff\">None</span>, <span style=\"color: #00af00; text-decoration-color: #00af00\">16</span>)             │           <span style=\"color: #00af00; text-decoration-color: #00af00\">272</span> │\n",
       "├─────────────────────────────────┼────────────────────────┼───────────────┤\n",
       "│ dense_2 (<span style=\"color: #0087ff; text-decoration-color: #0087ff\">Dense</span>)                 │ (<span style=\"color: #00d7ff; text-decoration-color: #00d7ff\">None</span>, <span style=\"color: #00af00; text-decoration-color: #00af00\">1</span>)              │            <span style=\"color: #00af00; text-decoration-color: #00af00\">17</span> │\n",
       "└─────────────────────────────────┴────────────────────────┴───────────────┘\n",
       "</pre>\n"
      ],
      "text/plain": [
       "┏━━━━━━━━━━━━━━━━━━━━━━━━━━━━━━━━━┳━━━━━━━━━━━━━━━━━━━━━━━━┳━━━━━━━━━━━━━━━┓\n",
       "┃\u001b[1m \u001b[0m\u001b[1mLayer (type)                   \u001b[0m\u001b[1m \u001b[0m┃\u001b[1m \u001b[0m\u001b[1mOutput Shape          \u001b[0m\u001b[1m \u001b[0m┃\u001b[1m \u001b[0m\u001b[1m      Param #\u001b[0m\u001b[1m \u001b[0m┃\n",
       "┡━━━━━━━━━━━━━━━━━━━━━━━━━━━━━━━━━╇━━━━━━━━━━━━━━━━━━━━━━━━╇━━━━━━━━━━━━━━━┩\n",
       "│ dense (\u001b[38;5;33mDense\u001b[0m)                   │ (\u001b[38;5;45mNone\u001b[0m, \u001b[38;5;34m16\u001b[0m)             │            \u001b[38;5;34m96\u001b[0m │\n",
       "├─────────────────────────────────┼────────────────────────┼───────────────┤\n",
       "│ dense_1 (\u001b[38;5;33mDense\u001b[0m)                 │ (\u001b[38;5;45mNone\u001b[0m, \u001b[38;5;34m16\u001b[0m)             │           \u001b[38;5;34m272\u001b[0m │\n",
       "├─────────────────────────────────┼────────────────────────┼───────────────┤\n",
       "│ dense_2 (\u001b[38;5;33mDense\u001b[0m)                 │ (\u001b[38;5;45mNone\u001b[0m, \u001b[38;5;34m1\u001b[0m)              │            \u001b[38;5;34m17\u001b[0m │\n",
       "└─────────────────────────────────┴────────────────────────┴───────────────┘\n"
      ]
     },
     "metadata": {},
     "output_type": "display_data"
    },
    {
     "data": {
      "text/html": [
       "<pre style=\"white-space:pre;overflow-x:auto;line-height:normal;font-family:Menlo,'DejaVu Sans Mono',consolas,'Courier New',monospace\"><span style=\"font-weight: bold\"> Total params: </span><span style=\"color: #00af00; text-decoration-color: #00af00\">385</span> (1.50 KB)\n",
       "</pre>\n"
      ],
      "text/plain": [
       "\u001b[1m Total params: \u001b[0m\u001b[38;5;34m385\u001b[0m (1.50 KB)\n"
      ]
     },
     "metadata": {},
     "output_type": "display_data"
    },
    {
     "data": {
      "text/html": [
       "<pre style=\"white-space:pre;overflow-x:auto;line-height:normal;font-family:Menlo,'DejaVu Sans Mono',consolas,'Courier New',monospace\"><span style=\"font-weight: bold\"> Trainable params: </span><span style=\"color: #00af00; text-decoration-color: #00af00\">385</span> (1.50 KB)\n",
       "</pre>\n"
      ],
      "text/plain": [
       "\u001b[1m Trainable params: \u001b[0m\u001b[38;5;34m385\u001b[0m (1.50 KB)\n"
      ]
     },
     "metadata": {},
     "output_type": "display_data"
    },
    {
     "data": {
      "text/html": [
       "<pre style=\"white-space:pre;overflow-x:auto;line-height:normal;font-family:Menlo,'DejaVu Sans Mono',consolas,'Courier New',monospace\"><span style=\"font-weight: bold\"> Non-trainable params: </span><span style=\"color: #00af00; text-decoration-color: #00af00\">0</span> (0.00 B)\n",
       "</pre>\n"
      ],
      "text/plain": [
       "\u001b[1m Non-trainable params: \u001b[0m\u001b[38;5;34m0\u001b[0m (0.00 B)\n"
      ]
     },
     "metadata": {},
     "output_type": "display_data"
    }
   ],
   "source": [
    "model.summary()"
   ]
  },
  {
   "cell_type": "code",
   "execution_count": 34,
   "id": "b0bc13f4-3002-4822-a4c0-db37b768254f",
   "metadata": {},
   "outputs": [],
   "source": [
    "los = keras.losses.MeanSquaredError()\n",
    "opt = keras.optimizers.Adam()\n",
    "model.compile(loss=los, optimizer = opt)"
   ]
  },
  {
   "cell_type": "code",
   "execution_count": 37,
   "id": "17042bd3-96b1-4aa3-8cee-c0c520e8ebdd",
   "metadata": {
    "collapsed": true,
    "jupyter": {
     "outputs_hidden": true
    }
   },
   "outputs": [
    {
     "name": "stdout",
     "output_type": "stream",
     "text": [
      "Epoch 1/100\n",
      "15/15 - 0s - 4ms/step - loss: 35.6926 - val_loss: 45.2719\n",
      "Epoch 2/100\n",
      "15/15 - 0s - 2ms/step - loss: 34.9222 - val_loss: 44.7708\n",
      "Epoch 3/100\n",
      "15/15 - 0s - 2ms/step - loss: 34.4869 - val_loss: 44.3642\n",
      "Epoch 4/100\n",
      "15/15 - 0s - 2ms/step - loss: 34.0842 - val_loss: 43.7257\n",
      "Epoch 5/100\n",
      "15/15 - 0s - 2ms/step - loss: 33.6064 - val_loss: 42.4012\n",
      "Epoch 6/100\n",
      "15/15 - 0s - 2ms/step - loss: 33.0969 - val_loss: 42.0005\n",
      "Epoch 7/100\n",
      "15/15 - 0s - 2ms/step - loss: 32.6428 - val_loss: 41.4353\n",
      "Epoch 8/100\n",
      "15/15 - 0s - 2ms/step - loss: 32.0676 - val_loss: 41.4170\n",
      "Epoch 9/100\n",
      "15/15 - 0s - 2ms/step - loss: 31.6353 - val_loss: 40.4353\n",
      "Epoch 10/100\n",
      "15/15 - 0s - 2ms/step - loss: 31.1248 - val_loss: 39.6799\n",
      "Epoch 11/100\n",
      "15/15 - 0s - 2ms/step - loss: 30.6753 - val_loss: 39.3444\n",
      "Epoch 12/100\n",
      "15/15 - 0s - 2ms/step - loss: 30.2128 - val_loss: 38.7487\n",
      "Epoch 13/100\n",
      "15/15 - 0s - 2ms/step - loss: 29.7337 - val_loss: 37.7903\n",
      "Epoch 14/100\n",
      "15/15 - 0s - 2ms/step - loss: 29.3670 - val_loss: 37.1539\n",
      "Epoch 15/100\n",
      "15/15 - 0s - 2ms/step - loss: 28.7179 - val_loss: 36.9760\n",
      "Epoch 16/100\n",
      "15/15 - 0s - 2ms/step - loss: 28.2847 - val_loss: 36.0874\n",
      "Epoch 17/100\n",
      "15/15 - 0s - 2ms/step - loss: 28.0758 - val_loss: 35.1406\n",
      "Epoch 18/100\n",
      "15/15 - 0s - 2ms/step - loss: 27.2580 - val_loss: 34.7140\n",
      "Epoch 19/100\n",
      "15/15 - 0s - 2ms/step - loss: 26.8430 - val_loss: 34.6117\n",
      "Epoch 20/100\n",
      "15/15 - 0s - 2ms/step - loss: 26.3225 - val_loss: 33.5737\n",
      "Epoch 21/100\n",
      "15/15 - 0s - 2ms/step - loss: 25.8952 - val_loss: 32.7074\n",
      "Epoch 22/100\n",
      "15/15 - 0s - 2ms/step - loss: 25.4747 - val_loss: 32.4605\n",
      "Epoch 23/100\n",
      "15/15 - 0s - 2ms/step - loss: 24.9030 - val_loss: 31.7965\n",
      "Epoch 24/100\n",
      "15/15 - 0s - 2ms/step - loss: 24.5537 - val_loss: 31.4458\n",
      "Epoch 25/100\n",
      "15/15 - 0s - 2ms/step - loss: 23.9965 - val_loss: 30.6171\n",
      "Epoch 26/100\n",
      "15/15 - 0s - 2ms/step - loss: 23.6176 - val_loss: 30.2329\n",
      "Epoch 27/100\n",
      "15/15 - 0s - 2ms/step - loss: 23.2434 - val_loss: 29.6593\n",
      "Epoch 28/100\n",
      "15/15 - 0s - 2ms/step - loss: 22.6602 - val_loss: 29.0209\n",
      "Epoch 29/100\n",
      "15/15 - 0s - 2ms/step - loss: 22.2925 - val_loss: 28.5108\n",
      "Epoch 30/100\n",
      "15/15 - 0s - 2ms/step - loss: 21.9077 - val_loss: 27.9633\n",
      "Epoch 31/100\n",
      "15/15 - 0s - 2ms/step - loss: 21.5252 - val_loss: 27.9575\n",
      "Epoch 32/100\n",
      "15/15 - 0s - 2ms/step - loss: 21.0819 - val_loss: 26.4917\n",
      "Epoch 33/100\n",
      "15/15 - 0s - 2ms/step - loss: 20.4993 - val_loss: 26.3852\n",
      "Epoch 34/100\n",
      "15/15 - 0s - 2ms/step - loss: 20.0553 - val_loss: 25.9928\n",
      "Epoch 35/100\n",
      "15/15 - 0s - 2ms/step - loss: 19.6484 - val_loss: 25.2076\n",
      "Epoch 36/100\n",
      "15/15 - 0s - 2ms/step - loss: 19.4644 - val_loss: 25.1863\n",
      "Epoch 37/100\n",
      "15/15 - 0s - 2ms/step - loss: 19.0957 - val_loss: 23.8172\n",
      "Epoch 38/100\n",
      "15/15 - 0s - 2ms/step - loss: 18.3542 - val_loss: 23.8229\n",
      "Epoch 39/100\n",
      "15/15 - 0s - 2ms/step - loss: 17.9274 - val_loss: 23.5152\n",
      "Epoch 40/100\n",
      "15/15 - 0s - 2ms/step - loss: 17.6275 - val_loss: 22.9298\n",
      "Epoch 41/100\n",
      "15/15 - 0s - 2ms/step - loss: 17.2538 - val_loss: 21.9587\n",
      "Epoch 42/100\n",
      "15/15 - 0s - 2ms/step - loss: 16.7863 - val_loss: 22.1127\n",
      "Epoch 43/100\n",
      "15/15 - 0s - 2ms/step - loss: 16.3216 - val_loss: 21.2973\n",
      "Epoch 44/100\n",
      "15/15 - 0s - 2ms/step - loss: 15.9193 - val_loss: 20.8506\n",
      "Epoch 45/100\n",
      "15/15 - 0s - 2ms/step - loss: 15.5627 - val_loss: 20.4150\n",
      "Epoch 46/100\n",
      "15/15 - 0s - 2ms/step - loss: 15.1382 - val_loss: 19.8698\n",
      "Epoch 47/100\n",
      "15/15 - 0s - 2ms/step - loss: 14.8646 - val_loss: 19.4194\n",
      "Epoch 48/100\n",
      "15/15 - 0s - 2ms/step - loss: 14.4650 - val_loss: 18.9929\n",
      "Epoch 49/100\n",
      "15/15 - 0s - 2ms/step - loss: 14.0439 - val_loss: 18.8273\n",
      "Epoch 50/100\n",
      "15/15 - 0s - 2ms/step - loss: 13.6445 - val_loss: 18.2990\n",
      "Epoch 51/100\n",
      "15/15 - 0s - 2ms/step - loss: 13.3773 - val_loss: 17.8674\n",
      "Epoch 52/100\n",
      "15/15 - 0s - 3ms/step - loss: 13.0556 - val_loss: 17.2267\n",
      "Epoch 53/100\n",
      "15/15 - 0s - 2ms/step - loss: 12.7199 - val_loss: 17.0651\n",
      "Epoch 54/100\n",
      "15/15 - 0s - 2ms/step - loss: 12.3394 - val_loss: 16.8199\n",
      "Epoch 55/100\n",
      "15/15 - 0s - 2ms/step - loss: 11.9248 - val_loss: 15.8018\n",
      "Epoch 56/100\n",
      "15/15 - 0s - 2ms/step - loss: 11.5938 - val_loss: 15.7647\n",
      "Epoch 57/100\n",
      "15/15 - 0s - 2ms/step - loss: 11.2983 - val_loss: 15.4723\n",
      "Epoch 58/100\n",
      "15/15 - 0s - 2ms/step - loss: 11.0062 - val_loss: 14.7448\n",
      "Epoch 59/100\n",
      "15/15 - 0s - 2ms/step - loss: 10.6711 - val_loss: 14.5725\n",
      "Epoch 60/100\n",
      "15/15 - 0s - 2ms/step - loss: 10.2564 - val_loss: 14.0040\n",
      "Epoch 61/100\n",
      "15/15 - 0s - 2ms/step - loss: 9.9944 - val_loss: 13.8649\n",
      "Epoch 62/100\n",
      "15/15 - 0s - 2ms/step - loss: 9.6784 - val_loss: 13.5409\n",
      "Epoch 63/100\n",
      "15/15 - 0s - 2ms/step - loss: 9.4026 - val_loss: 13.0324\n",
      "Epoch 64/100\n",
      "15/15 - 0s - 2ms/step - loss: 9.1159 - val_loss: 12.9087\n",
      "Epoch 65/100\n",
      "15/15 - 0s - 2ms/step - loss: 8.8641 - val_loss: 12.4676\n",
      "Epoch 66/100\n",
      "15/15 - 0s - 2ms/step - loss: 8.6963 - val_loss: 12.0301\n",
      "Epoch 67/100\n",
      "15/15 - 0s - 2ms/step - loss: 8.3728 - val_loss: 12.0089\n",
      "Epoch 68/100\n",
      "15/15 - 0s - 2ms/step - loss: 8.0870 - val_loss: 11.3637\n",
      "Epoch 69/100\n",
      "15/15 - 0s - 2ms/step - loss: 7.8198 - val_loss: 11.1883\n",
      "Epoch 70/100\n",
      "15/15 - 0s - 2ms/step - loss: 7.6230 - val_loss: 10.9446\n",
      "Epoch 71/100\n",
      "15/15 - 0s - 2ms/step - loss: 7.3413 - val_loss: 10.5198\n",
      "Epoch 72/100\n",
      "15/15 - 0s - 2ms/step - loss: 7.0961 - val_loss: 10.2791\n",
      "Epoch 73/100\n",
      "15/15 - 0s - 2ms/step - loss: 6.9392 - val_loss: 9.9371\n",
      "Epoch 74/100\n",
      "15/15 - 0s - 2ms/step - loss: 6.7113 - val_loss: 9.7930\n",
      "Epoch 75/100\n",
      "15/15 - 0s - 2ms/step - loss: 6.5121 - val_loss: 9.5131\n",
      "Epoch 76/100\n",
      "15/15 - 0s - 2ms/step - loss: 6.2972 - val_loss: 9.3056\n",
      "Epoch 77/100\n",
      "15/15 - 0s - 2ms/step - loss: 6.1276 - val_loss: 8.9008\n",
      "Epoch 78/100\n",
      "15/15 - 0s - 2ms/step - loss: 5.9219 - val_loss: 8.8692\n",
      "Epoch 79/100\n",
      "15/15 - 0s - 2ms/step - loss: 5.7770 - val_loss: 8.5144\n",
      "Epoch 80/100\n",
      "15/15 - 0s - 2ms/step - loss: 5.5698 - val_loss: 8.4044\n",
      "Epoch 81/100\n",
      "15/15 - 0s - 2ms/step - loss: 5.4209 - val_loss: 7.9564\n",
      "Epoch 82/100\n",
      "15/15 - 0s - 2ms/step - loss: 5.2222 - val_loss: 7.9010\n",
      "Epoch 83/100\n",
      "15/15 - 0s - 2ms/step - loss: 5.0898 - val_loss: 7.6255\n",
      "Epoch 84/100\n",
      "15/15 - 0s - 2ms/step - loss: 4.9119 - val_loss: 7.4146\n",
      "Epoch 85/100\n",
      "15/15 - 0s - 2ms/step - loss: 4.7463 - val_loss: 7.3110\n",
      "Epoch 86/100\n",
      "15/15 - 0s - 2ms/step - loss: 4.6616 - val_loss: 7.0130\n",
      "Epoch 87/100\n",
      "15/15 - 0s - 2ms/step - loss: 4.4892 - val_loss: 6.7363\n",
      "Epoch 88/100\n",
      "15/15 - 0s - 2ms/step - loss: 4.3427 - val_loss: 6.5955\n",
      "Epoch 89/100\n",
      "15/15 - 0s - 2ms/step - loss: 4.2125 - val_loss: 6.3915\n",
      "Epoch 90/100\n",
      "15/15 - 0s - 2ms/step - loss: 4.1025 - val_loss: 6.2581\n",
      "Epoch 91/100\n",
      "15/15 - 0s - 2ms/step - loss: 3.9748 - val_loss: 6.1000\n",
      "Epoch 92/100\n",
      "15/15 - 0s - 2ms/step - loss: 3.8561 - val_loss: 5.9319\n",
      "Epoch 93/100\n",
      "15/15 - 0s - 2ms/step - loss: 3.7929 - val_loss: 5.7783\n",
      "Epoch 94/100\n",
      "15/15 - 0s - 2ms/step - loss: 3.6276 - val_loss: 5.5346\n",
      "Epoch 95/100\n",
      "15/15 - 0s - 2ms/step - loss: 3.5359 - val_loss: 5.4742\n",
      "Epoch 96/100\n",
      "15/15 - 0s - 2ms/step - loss: 3.4460 - val_loss: 5.2986\n",
      "Epoch 97/100\n",
      "15/15 - 0s - 2ms/step - loss: 3.3433 - val_loss: 5.2138\n",
      "Epoch 98/100\n",
      "15/15 - 0s - 2ms/step - loss: 3.2547 - val_loss: 5.0063\n",
      "Epoch 99/100\n",
      "15/15 - 0s - 2ms/step - loss: 3.1689 - val_loss: 4.8804\n",
      "Epoch 100/100\n",
      "15/15 - 0s - 2ms/step - loss: 3.1045 - val_loss: 4.7135\n"
     ]
    },
    {
     "data": {
      "text/plain": [
       "<keras.src.callbacks.history.History at 0x1735c2060>"
      ]
     },
     "execution_count": 37,
     "metadata": {},
     "output_type": "execute_result"
    }
   ],
   "source": [
    "model.fit(X_train, y_train, validation_split=0.1, epochs=100, batch_size=50, verbose=2)"
   ]
  },
  {
   "cell_type": "code",
   "execution_count": 41,
   "id": "fa3ca3f9-cc5b-4a55-a31c-a79169a13dfa",
   "metadata": {},
   "outputs": [
    {
     "name": "stdout",
     "output_type": "stream",
     "text": [
      "\u001b[1m25/25\u001b[0m \u001b[32m━━━━━━━━━━━━━━━━━━━━\u001b[0m\u001b[37m\u001b[0m \u001b[1m0s\u001b[0m 731us/step - loss: 3.1902\n"
     ]
    },
    {
     "data": {
      "text/plain": [
       "3.1901779174804688"
      ]
     },
     "execution_count": 41,
     "metadata": {},
     "output_type": "execute_result"
    }
   ],
   "source": [
    "model.evaluate(X_train, y_train)"
   ]
  },
  {
   "cell_type": "code",
   "execution_count": 42,
   "id": "c3c5b0ea-885c-4748-8aaa-4cd6ffce2c5b",
   "metadata": {},
   "outputs": [
    {
     "name": "stdout",
     "output_type": "stream",
     "text": [
      "\u001b[1m7/7\u001b[0m \u001b[32m━━━━━━━━━━━━━━━━━━━━\u001b[0m\u001b[37m\u001b[0m \u001b[1m0s\u001b[0m 2ms/step - loss: 3.7960 \n"
     ]
    },
    {
     "data": {
      "text/plain": [
       "3.7960267066955566"
      ]
     },
     "execution_count": 42,
     "metadata": {},
     "output_type": "execute_result"
    }
   ],
   "source": [
    "model.evaluate(X_test, y_test)"
   ]
  },
  {
   "cell_type": "code",
   "execution_count": 43,
   "id": "5fdf7d71-c659-4fdb-9b6c-756fc4950e5e",
   "metadata": {},
   "outputs": [
    {
     "name": "stdout",
     "output_type": "stream",
     "text": [
      "\u001b[1m7/7\u001b[0m \u001b[32m━━━━━━━━━━━━━━━━━━━━\u001b[0m\u001b[37m\u001b[0m \u001b[1m0s\u001b[0m 3ms/step \n"
     ]
    }
   ],
   "source": [
    "y_pred = model.predict(X_test)"
   ]
  },
  {
   "cell_type": "code",
   "execution_count": 44,
   "id": "01c21559-225d-4b03-9fbc-59ee5362bd03",
   "metadata": {},
   "outputs": [
    {
     "data": {
      "text/plain": [
       "(200, 1)"
      ]
     },
     "execution_count": 44,
     "metadata": {},
     "output_type": "execute_result"
    }
   ],
   "source": [
    "y_pred.shape"
   ]
  },
  {
   "cell_type": "code",
   "execution_count": 45,
   "id": "b42965dc-c05d-47e9-8854-d66325fe88ca",
   "metadata": {},
   "outputs": [
    {
     "data": {
      "text/plain": [
       "(200,)"
      ]
     },
     "execution_count": 45,
     "metadata": {},
     "output_type": "execute_result"
    }
   ],
   "source": [
    "y_test.shape"
   ]
  },
  {
   "cell_type": "code",
   "execution_count": 47,
   "id": "f9857ae5-faf6-45df-9f98-f9ed3e13b6b0",
   "metadata": {},
   "outputs": [],
   "source": [
    "import matplotlib.pyplot as plt"
   ]
  },
  {
   "cell_type": "code",
   "execution_count": 53,
   "id": "f7160ff7-efab-4ce9-a5c7-cb9f36de044c",
   "metadata": {},
   "outputs": [
    {
     "data": {
      "image/png": "[encoded data removed]",
      "text/plain": [
       "<Figure size 640x480 with 1 Axes>"
      ]
     },
     "metadata": {},
     "output_type": "display_data"
    }
   ],
   "source": [
    "plt.scatter(y_pred[:5], range(5), color='red')\n",
    "plt.scatter(y_test[:5], range(5), color='blue')\n",
    "plt.show()"
   ]
  },
  {
   "cell_type": "code",
   "execution_count": null,
   "id": "67180531-2d9c-4280-9eeb-b7eb2978a28e",
   "metadata": {},
   "outputs": [],
   "source": []
  }
 ],
 "metadata": {
  "kernelspec": {
   "display_name": "Python 3 (ipykernel)",
   "language": "python",
   "name": "python3"
  },
  "language_info": {
   "codemirror_mode": {
    "name": "ipython",
    "version": 3
   },
   "file_extension": ".py",
   "mimetype": "text/x-python",
   "name": "python",
   "nbconvert_exporter": "python",
   "pygments_lexer": "ipython3",
   "version": "3.13.7"
  }
 },
 "nbformat": 4,
 "nbformat_minor": 5
}
