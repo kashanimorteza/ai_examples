{
  "nbformat": 4,
  "nbformat_minor": 0,
  "metadata": {
    "colab": {
      "provenance": [],
      "toc_visible": true
    },
    "kernelspec": {
      "name": "python3",
      "display_name": "Python 3"
    },
    "language_info": {
      "name": "python"
    }
  },
  "cells": [
    {
      "cell_type": "markdown",
      "source": [
        "# Matplotlib"
      ],
      "metadata": {
        "id": "3s5QUAE1AI7W"
      }
    },
    {
      "cell_type": "code",
      "source": [],
      "metadata": {
        "id": "tP6SK4GmAL46"
      },
      "execution_count": null,
      "outputs": []
    }
  ]
}