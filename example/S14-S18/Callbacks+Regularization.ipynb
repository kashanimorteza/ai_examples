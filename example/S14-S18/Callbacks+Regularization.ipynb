{
  "nbformat": 4,
  "nbformat_minor": 0,
  "metadata": {
    "colab": {
      "provenance": []
    },
    "kernelspec": {
      "name": "python3",
      "display_name": "Python 3"
    },
    "language_info": {
      "name": "python"
    }
  },
  "cells": [
    {
      "cell_type": "markdown",
      "source": [
        "# Callbacks & Regularizations"
      ],
      "metadata": {
        "id": "DysKnd4YSGY1"
      }
    },
    {
      "cell_type": "code",
      "execution_count": null,
      "metadata": {
        "id": "Nb2Lv5H53SfV"
      },
      "outputs": [],
      "source": [
        "from tensorflow.keras.datasets import mnist\n",
        "from tensorflow import keras\n",
        "from tensorflow.keras import layers\n",
        "from tensorflow.keras import regularizers"
      ]
    },
    {
      "cell_type": "code",
      "source": [
        "(images, labels), (test_images, test_labels) = mnist.load_data()"
      ],
      "metadata": {
        "colab": {
          "base_uri": "https://localhost:8080/"
        },
        "id": "M63okXga6-I_",
        "outputId": "9081b1ad-9827-435a-df16-f6351f130fcd"
      },
      "execution_count": null,
      "outputs": [
        {
          "output_type": "stream",
          "name": "stdout",
          "text": [
            "Downloading data from https://storage.googleapis.com/tensorflow/tf-keras-datasets/mnist.npz\n",
            "11490434/11490434 [==============================] - 0s 0us/step\n"
          ]
        }
      ]
    },
    {
      "cell_type": "code",
      "source": [
        "images = images.reshape((60000, 28*28)).astype('float32') / 255\n",
        "train_images, val_images = images[10000:], images[:10000]\n",
        "train_labels, val_labels = labels[10000:], labels[:10000]"
      ],
      "metadata": {
        "id": "VNZjgKGz9RZl"
      },
      "execution_count": null,
      "outputs": []
    },
    {
      "cell_type": "code",
      "source": [
        "def get_mnist_model():\n",
        "  inputs = layers.Input(shape=(28*28,))\n",
        "  x = layers.Dense(256, activation='relu')(inputs)\n",
        "  outputs = layers.Dense(10, activation='softmax')(x)\n",
        "  model = keras.Model(inputs, outputs)\n",
        "  return model"
      ],
      "metadata": {
        "id": "-epPH1qqFuSI"
      },
      "execution_count": null,
      "outputs": []
    },
    {
      "cell_type": "markdown",
      "source": [
        "## 1- Regularizations"
      ],
      "metadata": {
        "id": "WAYA0yEQSR7U"
      }
    },
    {
      "cell_type": "code",
      "source": [
        "def get_mnist_model_regularized():\n",
        "  inputs = layers.Input(shape=(28*28,))\n",
        "  x = layers.Dense(256, activation='relu',\n",
        "                   kernel_regularizer=regularizers.L1L2(l1=1e-5, l2=1e-4))(inputs)\n",
        "  x = layers.Dropout(0.2)(x)\n",
        "  x = layers.Dense(20, activation='relu',\n",
        "                    kernel_regularizer=regularizers.L2(1e-4))(x)\n",
        "  outputs = layers.Dense(10, activation='softmax')(x)\n",
        "  model = keras.Model(inputs, outputs)\n",
        "  return model"
      ],
      "metadata": {
        "id": "FVLBJNr37A5v"
      },
      "execution_count": null,
      "outputs": []
    },
    {
      "cell_type": "code",
      "source": [
        "model = get_mnist_model()\n",
        "# model = get_mnist_model_regularized()\n",
        "model.summary()"
      ],
      "metadata": {
        "colab": {
          "base_uri": "https://localhost:8080/"
        },
        "id": "53vn2cFQ7uBd",
        "outputId": "410acf63-884d-4cd4-9342-6bc963882c52"
      },
      "execution_count": null,
      "outputs": [
        {
          "output_type": "stream",
          "name": "stdout",
          "text": [
            "Model: \"model_2\"\n",
            "_________________________________________________________________\n",
            " Layer (type)                Output Shape              Param #   \n",
            "=================================================================\n",
            " input_3 (InputLayer)        [(None, 784)]             0         \n",
            "                                                                 \n",
            " dense_5 (Dense)             (None, 256)               200960    \n",
            "                                                                 \n",
            " dropout_1 (Dropout)         (None, 256)               0         \n",
            "                                                                 \n",
            " dense_6 (Dense)             (None, 20)                5140      \n",
            "                                                                 \n",
            " dense_7 (Dense)             (None, 10)                210       \n",
            "                                                                 \n",
            "=================================================================\n",
            "Total params: 206,310\n",
            "Trainable params: 206,310\n",
            "Non-trainable params: 0\n",
            "_________________________________________________________________\n"
          ]
        }
      ]
    },
    {
      "cell_type": "code",
      "source": [
        "model.compile(optimizer='adam', loss='sparse_categorical_crossentropy',\n",
        "              metrics=['accuracy'])"
      ],
      "metadata": {
        "id": "3E0yYa4w8Uem"
      },
      "execution_count": null,
      "outputs": []
    },
    {
      "cell_type": "markdown",
      "source": [
        "## 2- Callbacks"
      ],
      "metadata": {
        "id": "KMgvO_k5SPCM"
      }
    },
    {
      "cell_type": "code",
      "source": [
        "model_checkpoint = keras.callbacks.ModelCheckpoint('checkpoint.h5',\n",
        "                                                   save_best_only=True)\n",
        "early_stopping = keras.callbacks.EarlyStopping(monitor='val_accuracy',\n",
        "                                               patience=2)\n",
        "logger = keras.callbacks.CSVLogger('logg.csv')\n",
        "callback_list = [model_checkpoint, early_stopping, logger]"
      ],
      "metadata": {
        "id": "NM-AOl-3-T3M"
      },
      "execution_count": null,
      "outputs": []
    },
    {
      "cell_type": "code",
      "source": [
        "model.fit(train_images, train_labels,\n",
        "          epochs=10,\n",
        "          validation_data=(val_images, val_labels),\n",
        "          callbacks=callback_list)"
      ],
      "metadata": {
        "colab": {
          "base_uri": "https://localhost:8080/"
        },
        "id": "1imPqrZ284b8",
        "outputId": "17ff05de-d57f-4525-a4f4-fe96c56f9584"
      },
      "execution_count": null,
      "outputs": [
        {
          "output_type": "stream",
          "name": "stdout",
          "text": [
            "Epoch 1/10\n",
            "1563/1563 [==============================] - 12s 7ms/step - loss: 0.2416 - accuracy: 0.9297 - val_loss: 0.1342 - val_accuracy: 0.9586\n",
            "Epoch 2/10\n",
            "1563/1563 [==============================] - 10s 6ms/step - loss: 0.1020 - accuracy: 0.9699 - val_loss: 0.1031 - val_accuracy: 0.9696\n",
            "Epoch 3/10\n",
            "1563/1563 [==============================] - 11s 7ms/step - loss: 0.0664 - accuracy: 0.9801 - val_loss: 0.0994 - val_accuracy: 0.9696\n",
            "Epoch 4/10\n",
            "1563/1563 [==============================] - 9s 6ms/step - loss: 0.0487 - accuracy: 0.9851 - val_loss: 0.0773 - val_accuracy: 0.9781\n",
            "Epoch 5/10\n",
            "1563/1563 [==============================] - 10s 7ms/step - loss: 0.0329 - accuracy: 0.9900 - val_loss: 0.0805 - val_accuracy: 0.9764\n",
            "Epoch 6/10\n",
            "1563/1563 [==============================] - 10s 6ms/step - loss: 0.0253 - accuracy: 0.9919 - val_loss: 0.0782 - val_accuracy: 0.9767\n"
          ]
        },
        {
          "output_type": "execute_result",
          "data": {
            "text/plain": [
              "<keras.callbacks.History at 0x7cf6d1d09ba0>"
            ]
          },
          "metadata": {},
          "execution_count": 9
        }
      ]
    }
  ]
}