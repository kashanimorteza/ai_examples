{
  "nbformat": 4,
  "nbformat_minor": 0,
  "metadata": {
    "colab": {
      "provenance": []
    },
    "kernelspec": {
      "name": "python3",
      "display_name": "Python 3"
    },
    "language_info": {
      "name": "python"
    }
  },
  "cells": [
    {
      "cell_type": "markdown",
      "source": [
        "# NLP - Sarcasm Detection\n",
        "MLP Model + **Pre-trained** Embedding Layer"
      ],
      "metadata": {
        "id": "h7gI8e6BDv2L"
      }
    },
    {
      "cell_type": "code",
      "source": [
        "import pandas as pd\n",
        "import numpy as np\n",
        "import matplotlib.pyplot as plt\n",
        "from tensorflow.keras import Sequential\n",
        "from tensorflow.keras import layers\n",
        "import tensorflow as tf\n",
        "import tensorflow_hub as hub\n",
        "from tensorflow import keras\n",
        "import nltk\n",
        "from nltk.corpus import stopwords\n",
        "\n",
        "nltk.download('stopwords')"
      ],
      "metadata": {
        "colab": {
          "base_uri": "https://localhost:8080/"
        },
        "id": "71SkUX8YgglR",
        "outputId": "4924617e-2d9b-4a10-a820-5ecd5996f675"
      },
      "execution_count": 10,
      "outputs": [
        {
          "output_type": "stream",
          "name": "stderr",
          "text": [
            "[nltk_data] Downloading package stopwords to /root/nltk_data...\n",
            "[nltk_data]   Package stopwords is already up-to-date!\n"
          ]
        },
        {
          "output_type": "execute_result",
          "data": {
            "text/plain": [
              "True"
            ]
          },
          "metadata": {},
          "execution_count": 10
        }
      ]
    },
    {
      "cell_type": "markdown",
      "source": [
        "## 1- Load Data"
      ],
      "metadata": {
        "id": "KdjP3_CVh7rx"
      }
    },
    {
      "cell_type": "code",
      "execution_count": 2,
      "metadata": {
        "id": "p-uytutAt6fl",
        "colab": {
          "base_uri": "https://localhost:8080/"
        },
        "outputId": "d318b07b-bb2c-4e7c-bd6c-313bd9fd8a97"
      },
      "outputs": [
        {
          "output_type": "stream",
          "name": "stdout",
          "text": [
            "--2023-10-29 18:27:08--  https://storage.googleapis.com/learning-datasets/sarcasm.json\n",
            "Resolving storage.googleapis.com (storage.googleapis.com)... 142.251.2.207, 2607:f8b0:4023:c0d::cf\n",
            "Connecting to storage.googleapis.com (storage.googleapis.com)|142.251.2.207|:443... connected.\n",
            "HTTP request sent, awaiting response... 200 OK\n",
            "Length: 5643545 (5.4M) [application/json]\n",
            "Saving to: ‘sarcasm.json’\n",
            "\n",
            "sarcasm.json        100%[===================>]   5.38M  --.-KB/s    in 0.1s    \n",
            "\n",
            "2023-10-29 18:27:09 (52.7 MB/s) - ‘sarcasm.json’ saved [5643545/5643545]\n",
            "\n"
          ]
        }
      ],
      "source": [
        "!wget --no-check-certificate https://storage.googleapis.com/learning-datasets/sarcasm.json"
      ]
    },
    {
      "cell_type": "code",
      "source": [
        "df = pd.read_json('sarcasm.json')"
      ],
      "metadata": {
        "id": "0R1s_Y3MgjAl"
      },
      "execution_count": 3,
      "outputs": []
    },
    {
      "cell_type": "code",
      "source": [
        "df.head()"
      ],
      "metadata": {
        "colab": {
          "base_uri": "https://localhost:8080/",
          "height": 206
        },
        "id": "irKiAX7kgn1S",
        "outputId": "9b772093-f30a-4581-e261-b3ab6334b090"
      },
      "execution_count": 4,
      "outputs": [
        {
          "output_type": "execute_result",
          "data": {
            "text/plain": [
              "                                        article_link  \\\n",
              "0  https://www.huffingtonpost.com/entry/versace-b...   \n",
              "1  https://www.huffingtonpost.com/entry/roseanne-...   \n",
              "2  https://local.theonion.com/mom-starting-to-fea...   \n",
              "3  https://politics.theonion.com/boehner-just-wan...   \n",
              "4  https://www.huffingtonpost.com/entry/jk-rowlin...   \n",
              "\n",
              "                                            headline  is_sarcastic  \n",
              "0  former versace store clerk sues over secret 'b...             0  \n",
              "1  the 'roseanne' revival catches up to our thorn...             0  \n",
              "2  mom starting to fear son's web series closest ...             1  \n",
              "3  boehner just wants wife to listen, not come up...             1  \n",
              "4  j.k. rowling wishes snape happy birthday in th...             0  "
            ],
            "text/html": [
              "\n",
              "  <div id=\"df-08a8d5f8-b1b2-46a4-9916-ad653434adb3\" class=\"colab-df-container\">\n",
              "    <div>\n",
              "<style scoped>\n",
              "    .dataframe tbody tr th:only-of-type {\n",
              "        vertical-align: middle;\n",
              "    }\n",
              "\n",
              "    .dataframe tbody tr th {\n",
              "        vertical-align: top;\n",
              "    }\n",
              "\n",
              "    .dataframe thead th {\n",
              "        text-align: right;\n",
              "    }\n",
              "</style>\n",
              "<table border=\"1\" class=\"dataframe\">\n",
              "  <thead>\n",
              "    <tr style=\"text-align: right;\">\n",
              "      <th></th>\n",
              "      <th>article_link</th>\n",
              "      <th>headline</th>\n",
              "      <th>is_sarcastic</th>\n",
              "    </tr>\n",
              "  </thead>\n",
              "  <tbody>\n",
              "    <tr>\n",
              "      <th>0</th>\n",
              "      <td>https://www.huffingtonpost.com/entry/versace-b...</td>\n",
              "      <td>former versace store clerk sues over secret 'b...</td>\n",
              "      <td>0</td>\n",
              "    </tr>\n",
              "    <tr>\n",
              "      <th>1</th>\n",
              "      <td>https://www.huffingtonpost.com/entry/roseanne-...</td>\n",
              "      <td>the 'roseanne' revival catches up to our thorn...</td>\n",
              "      <td>0</td>\n",
              "    </tr>\n",
              "    <tr>\n",
              "      <th>2</th>\n",
              "      <td>https://local.theonion.com/mom-starting-to-fea...</td>\n",
              "      <td>mom starting to fear son's web series closest ...</td>\n",
              "      <td>1</td>\n",
              "    </tr>\n",
              "    <tr>\n",
              "      <th>3</th>\n",
              "      <td>https://politics.theonion.com/boehner-just-wan...</td>\n",
              "      <td>boehner just wants wife to listen, not come up...</td>\n",
              "      <td>1</td>\n",
              "    </tr>\n",
              "    <tr>\n",
              "      <th>4</th>\n",
              "      <td>https://www.huffingtonpost.com/entry/jk-rowlin...</td>\n",
              "      <td>j.k. rowling wishes snape happy birthday in th...</td>\n",
              "      <td>0</td>\n",
              "    </tr>\n",
              "  </tbody>\n",
              "</table>\n",
              "</div>\n",
              "    <div class=\"colab-df-buttons\">\n",
              "\n",
              "  <div class=\"colab-df-container\">\n",
              "    <button class=\"colab-df-convert\" onclick=\"convertToInteractive('df-08a8d5f8-b1b2-46a4-9916-ad653434adb3')\"\n",
              "            title=\"Convert this dataframe to an interactive table.\"\n",
              "            style=\"display:none;\">\n",
              "\n",
              "  <svg xmlns=\"http://www.w3.org/2000/svg\" height=\"24px\" viewBox=\"0 -960 960 960\">\n",
              "    <path d=\"M120-120v-720h720v720H120Zm60-500h600v-160H180v160Zm220 220h160v-160H400v160Zm0 220h160v-160H400v160ZM180-400h160v-160H180v160Zm440 0h160v-160H620v160ZM180-180h160v-160H180v160Zm440 0h160v-160H620v160Z\"/>\n",
              "  </svg>\n",
              "    </button>\n",
              "\n",
              "  <style>\n",
              "    .colab-df-container {\n",
              "      display:flex;\n",
              "      gap: 12px;\n",
              "    }\n",
              "\n",
              "    .colab-df-convert {\n",
              "      background-color: #E8F0FE;\n",
              "      border: none;\n",
              "      border-radius: 50%;\n",
              "      cursor: pointer;\n",
              "      display: none;\n",
              "      fill: #1967D2;\n",
              "      height: 32px;\n",
              "      padding: 0 0 0 0;\n",
              "      width: 32px;\n",
              "    }\n",
              "\n",
              "    .colab-df-convert:hover {\n",
              "      background-color: #E2EBFA;\n",
              "      box-shadow: 0px 1px 2px rgba(60, 64, 67, 0.3), 0px 1px 3px 1px rgba(60, 64, 67, 0.15);\n",
              "      fill: #174EA6;\n",
              "    }\n",
              "\n",
              "    .colab-df-buttons div {\n",
              "      margin-bottom: 4px;\n",
              "    }\n",
              "\n",
              "    [theme=dark] .colab-df-convert {\n",
              "      background-color: #3B4455;\n",
              "      fill: #D2E3FC;\n",
              "    }\n",
              "\n",
              "    [theme=dark] .colab-df-convert:hover {\n",
              "      background-color: #434B5C;\n",
              "      box-shadow: 0px 1px 3px 1px rgba(0, 0, 0, 0.15);\n",
              "      filter: drop-shadow(0px 1px 2px rgba(0, 0, 0, 0.3));\n",
              "      fill: #FFFFFF;\n",
              "    }\n",
              "  </style>\n",
              "\n",
              "    <script>\n",
              "      const buttonEl =\n",
              "        document.querySelector('#df-08a8d5f8-b1b2-46a4-9916-ad653434adb3 button.colab-df-convert');\n",
              "      buttonEl.style.display =\n",
              "        google.colab.kernel.accessAllowed ? 'block' : 'none';\n",
              "\n",
              "      async function convertToInteractive(key) {\n",
              "        const element = document.querySelector('#df-08a8d5f8-b1b2-46a4-9916-ad653434adb3');\n",
              "        const dataTable =\n",
              "          await google.colab.kernel.invokeFunction('convertToInteractive',\n",
              "                                                    [key], {});\n",
              "        if (!dataTable) return;\n",
              "\n",
              "        const docLinkHtml = 'Like what you see? Visit the ' +\n",
              "          '<a target=\"_blank\" href=https://colab.research.google.com/notebooks/data_table.ipynb>data table notebook</a>'\n",
              "          + ' to learn more about interactive tables.';\n",
              "        element.innerHTML = '';\n",
              "        dataTable['output_type'] = 'display_data';\n",
              "        await google.colab.output.renderOutput(dataTable, element);\n",
              "        const docLink = document.createElement('div');\n",
              "        docLink.innerHTML = docLinkHtml;\n",
              "        element.appendChild(docLink);\n",
              "      }\n",
              "    </script>\n",
              "  </div>\n",
              "\n",
              "\n",
              "<div id=\"df-798a4d45-c728-40c7-bd71-01ea65c3e56c\">\n",
              "  <button class=\"colab-df-quickchart\" onclick=\"quickchart('df-798a4d45-c728-40c7-bd71-01ea65c3e56c')\"\n",
              "            title=\"Suggest charts.\"\n",
              "            style=\"display:none;\">\n",
              "\n",
              "<svg xmlns=\"http://www.w3.org/2000/svg\" height=\"24px\"viewBox=\"0 0 24 24\"\n",
              "     width=\"24px\">\n",
              "    <g>\n",
              "        <path d=\"M19 3H5c-1.1 0-2 .9-2 2v14c0 1.1.9 2 2 2h14c1.1 0 2-.9 2-2V5c0-1.1-.9-2-2-2zM9 17H7v-7h2v7zm4 0h-2V7h2v10zm4 0h-2v-4h2v4z\"/>\n",
              "    </g>\n",
              "</svg>\n",
              "  </button>\n",
              "\n",
              "<style>\n",
              "  .colab-df-quickchart {\n",
              "      --bg-color: #E8F0FE;\n",
              "      --fill-color: #1967D2;\n",
              "      --hover-bg-color: #E2EBFA;\n",
              "      --hover-fill-color: #174EA6;\n",
              "      --disabled-fill-color: #AAA;\n",
              "      --disabled-bg-color: #DDD;\n",
              "  }\n",
              "\n",
              "  [theme=dark] .colab-df-quickchart {\n",
              "      --bg-color: #3B4455;\n",
              "      --fill-color: #D2E3FC;\n",
              "      --hover-bg-color: #434B5C;\n",
              "      --hover-fill-color: #FFFFFF;\n",
              "      --disabled-bg-color: #3B4455;\n",
              "      --disabled-fill-color: #666;\n",
              "  }\n",
              "\n",
              "  .colab-df-quickchart {\n",
              "    background-color: var(--bg-color);\n",
              "    border: none;\n",
              "    border-radius: 50%;\n",
              "    cursor: pointer;\n",
              "    display: none;\n",
              "    fill: var(--fill-color);\n",
              "    height: 32px;\n",
              "    padding: 0;\n",
              "    width: 32px;\n",
              "  }\n",
              "\n",
              "  .colab-df-quickchart:hover {\n",
              "    background-color: var(--hover-bg-color);\n",
              "    box-shadow: 0 1px 2px rgba(60, 64, 67, 0.3), 0 1px 3px 1px rgba(60, 64, 67, 0.15);\n",
              "    fill: var(--button-hover-fill-color);\n",
              "  }\n",
              "\n",
              "  .colab-df-quickchart-complete:disabled,\n",
              "  .colab-df-quickchart-complete:disabled:hover {\n",
              "    background-color: var(--disabled-bg-color);\n",
              "    fill: var(--disabled-fill-color);\n",
              "    box-shadow: none;\n",
              "  }\n",
              "\n",
              "  .colab-df-spinner {\n",
              "    border: 2px solid var(--fill-color);\n",
              "    border-color: transparent;\n",
              "    border-bottom-color: var(--fill-color);\n",
              "    animation:\n",
              "      spin 1s steps(1) infinite;\n",
              "  }\n",
              "\n",
              "  @keyframes spin {\n",
              "    0% {\n",
              "      border-color: transparent;\n",
              "      border-bottom-color: var(--fill-color);\n",
              "      border-left-color: var(--fill-color);\n",
              "    }\n",
              "    20% {\n",
              "      border-color: transparent;\n",
              "      border-left-color: var(--fill-color);\n",
              "      border-top-color: var(--fill-color);\n",
              "    }\n",
              "    30% {\n",
              "      border-color: transparent;\n",
              "      border-left-color: var(--fill-color);\n",
              "      border-top-color: var(--fill-color);\n",
              "      border-right-color: var(--fill-color);\n",
              "    }\n",
              "    40% {\n",
              "      border-color: transparent;\n",
              "      border-right-color: var(--fill-color);\n",
              "      border-top-color: var(--fill-color);\n",
              "    }\n",
              "    60% {\n",
              "      border-color: transparent;\n",
              "      border-right-color: var(--fill-color);\n",
              "    }\n",
              "    80% {\n",
              "      border-color: transparent;\n",
              "      border-right-color: var(--fill-color);\n",
              "      border-bottom-color: var(--fill-color);\n",
              "    }\n",
              "    90% {\n",
              "      border-color: transparent;\n",
              "      border-bottom-color: var(--fill-color);\n",
              "    }\n",
              "  }\n",
              "</style>\n",
              "\n",
              "  <script>\n",
              "    async function quickchart(key) {\n",
              "      const quickchartButtonEl =\n",
              "        document.querySelector('#' + key + ' button');\n",
              "      quickchartButtonEl.disabled = true;  // To prevent multiple clicks.\n",
              "      quickchartButtonEl.classList.add('colab-df-spinner');\n",
              "      try {\n",
              "        const charts = await google.colab.kernel.invokeFunction(\n",
              "            'suggestCharts', [key], {});\n",
              "      } catch (error) {\n",
              "        console.error('Error during call to suggestCharts:', error);\n",
              "      }\n",
              "      quickchartButtonEl.classList.remove('colab-df-spinner');\n",
              "      quickchartButtonEl.classList.add('colab-df-quickchart-complete');\n",
              "    }\n",
              "    (() => {\n",
              "      let quickchartButtonEl =\n",
              "        document.querySelector('#df-798a4d45-c728-40c7-bd71-01ea65c3e56c button');\n",
              "      quickchartButtonEl.style.display =\n",
              "        google.colab.kernel.accessAllowed ? 'block' : 'none';\n",
              "    })();\n",
              "  </script>\n",
              "</div>\n",
              "    </div>\n",
              "  </div>\n"
            ]
          },
          "metadata": {},
          "execution_count": 4
        }
      ]
    },
    {
      "cell_type": "code",
      "source": [
        "df.shape"
      ],
      "metadata": {
        "colab": {
          "base_uri": "https://localhost:8080/"
        },
        "id": "NpL4Xoc5guRy",
        "outputId": "ad755dd5-a069-46b1-f20c-c41dea24dee0"
      },
      "execution_count": 5,
      "outputs": [
        {
          "output_type": "execute_result",
          "data": {
            "text/plain": [
              "(26709, 3)"
            ]
          },
          "metadata": {},
          "execution_count": 5
        }
      ]
    },
    {
      "cell_type": "code",
      "source": [
        "sentences = df['headline'].to_list()\n",
        "labels = df['is_sarcastic'].to_list()"
      ],
      "metadata": {
        "id": "9bd8ckkXha-y"
      },
      "execution_count": 7,
      "outputs": []
    },
    {
      "cell_type": "markdown",
      "source": [
        "## 2- Pre-processing"
      ],
      "metadata": {
        "id": "o5xSCgxjh-KJ"
      }
    },
    {
      "cell_type": "code",
      "source": [
        "sw = stopwords.words('english')"
      ],
      "metadata": {
        "id": "SstRwuSfx6kM"
      },
      "execution_count": null,
      "outputs": []
    },
    {
      "cell_type": "code",
      "source": [
        "print(sw)"
      ],
      "metadata": {
        "colab": {
          "base_uri": "https://localhost:8080/"
        },
        "id": "jAk45ZBTy0Ey",
        "outputId": "f26ef407-6a91-4e06-b0f9-91a194a994ce"
      },
      "execution_count": null,
      "outputs": [
        {
          "output_type": "stream",
          "name": "stdout",
          "text": [
            "['i', 'me', 'my', 'myself', 'we', 'our', 'ours', 'ourselves', 'you', \"you're\", \"you've\", \"you'll\", \"you'd\", 'your', 'yours', 'yourself', 'yourselves', 'he', 'him', 'his', 'himself', 'she', \"she's\", 'her', 'hers', 'herself', 'it', \"it's\", 'its', 'itself', 'they', 'them', 'their', 'theirs', 'themselves', 'what', 'which', 'who', 'whom', 'this', 'that', \"that'll\", 'these', 'those', 'am', 'is', 'are', 'was', 'were', 'be', 'been', 'being', 'have', 'has', 'had', 'having', 'do', 'does', 'did', 'doing', 'a', 'an', 'the', 'and', 'but', 'if', 'or', 'because', 'as', 'until', 'while', 'of', 'at', 'by', 'for', 'with', 'about', 'against', 'between', 'into', 'through', 'during', 'before', 'after', 'above', 'below', 'to', 'from', 'up', 'down', 'in', 'out', 'on', 'off', 'over', 'under', 'again', 'further', 'then', 'once', 'here', 'there', 'when', 'where', 'why', 'how', 'all', 'any', 'both', 'each', 'few', 'more', 'most', 'other', 'some', 'such', 'no', 'nor', 'not', 'only', 'own', 'same', 'so', 'than', 'too', 'very', 's', 't', 'can', 'will', 'just', 'don', \"don't\", 'should', \"should've\", 'now', 'd', 'll', 'm', 'o', 're', 've', 'y', 'ain', 'aren', \"aren't\", 'couldn', \"couldn't\", 'didn', \"didn't\", 'doesn', \"doesn't\", 'hadn', \"hadn't\", 'hasn', \"hasn't\", 'haven', \"haven't\", 'isn', \"isn't\", 'ma', 'mightn', \"mightn't\", 'mustn', \"mustn't\", 'needn', \"needn't\", 'shan', \"shan't\", 'shouldn', \"shouldn't\", 'wasn', \"wasn't\", 'weren', \"weren't\", 'won', \"won't\", 'wouldn', \"wouldn't\"]\n"
          ]
        }
      ]
    },
    {
      "cell_type": "code",
      "source": [
        "for s in sentences[:2]:\n",
        "  print(s)"
      ],
      "metadata": {
        "colab": {
          "base_uri": "https://localhost:8080/"
        },
        "id": "LOvynYjLy64C",
        "outputId": "d0ad1a95-e87a-4913-9c60-1c5c9dcc1231"
      },
      "execution_count": null,
      "outputs": [
        {
          "output_type": "stream",
          "name": "stdout",
          "text": [
            "former versace store clerk sues over secret 'black code' for minority shoppers\n",
            "the 'roseanne' revival catches up to our thorny political mood, for better and worse\n"
          ]
        }
      ]
    },
    {
      "cell_type": "code",
      "source": [
        "for i in range(len(sentences)):\n",
        "  words = sentences[i].split()\n",
        "  words_new = [w for w in words if w not in sw]\n",
        "  sentences[i] = ' '.join(words_new)"
      ],
      "metadata": {
        "id": "efo3HDADzD0r"
      },
      "execution_count": null,
      "outputs": []
    },
    {
      "cell_type": "code",
      "source": [
        "for s in sentences[:2]:\n",
        "  print(s)"
      ],
      "metadata": {
        "colab": {
          "base_uri": "https://localhost:8080/"
        },
        "id": "mwmwC4yozn2M",
        "outputId": "367ddcb6-6694-4eb1-a834-114113de4bfd"
      },
      "execution_count": null,
      "outputs": [
        {
          "output_type": "stream",
          "name": "stdout",
          "text": [
            "former versace store clerk sues secret 'black code' minority shoppers\n",
            "'roseanne' revival catches thorny political mood, better worse\n"
          ]
        }
      ]
    },
    {
      "cell_type": "code",
      "source": [
        "training_size = 23000\n",
        "\n",
        "train_sentences = sentences[:training_size]\n",
        "validation_sentences = sentences[training_size:]\n",
        "\n",
        "train_labels = labels[:training_size]\n",
        "validation_labels = labels[training_size:]\n",
        "\n",
        "train_sentences = np.array(train_sentences)\n",
        "validation_sentences = np.array(validation_sentences)\n",
        "train_labels = np.array(train_labels)\n",
        "validation_labels = np.array(validation_labels)"
      ],
      "metadata": {
        "id": "BxnHpg_3iBD7"
      },
      "execution_count": 18,
      "outputs": []
    },
    {
      "cell_type": "markdown",
      "source": [
        "## 3- Model Design"
      ],
      "metadata": {
        "id": "fLGOdUgzoXBU"
      }
    },
    {
      "cell_type": "code",
      "source": [
        "hub_layer = hub.KerasLayer(\"https://www.kaggle.com/models/google/gnews-swivel/frameworks/TensorFlow2/variations/tf2-preview-20dim/versions/1\", output_shape=[20],\n",
        "                           input_shape=[], dtype=tf.string, trainable=False)\n",
        "\n",
        "model2 = Sequential([\n",
        "    hub_layer,\n",
        "    layers.Dense(16, activation='relu'),\n",
        "    layers.Dense(1, activation='sigmoid')\n",
        "])\n",
        "\n",
        "model2.summary()"
      ],
      "metadata": {
        "colab": {
          "base_uri": "https://localhost:8080/"
        },
        "id": "oYg0S8aNtIhg",
        "outputId": "12781eca-5d62-4df4-d760-1af9fdb9b2df"
      },
      "execution_count": 13,
      "outputs": [
        {
          "output_type": "stream",
          "name": "stdout",
          "text": [
            "Model: \"sequential_2\"\n",
            "_________________________________________________________________\n",
            " Layer (type)                Output Shape              Param #   \n",
            "=================================================================\n",
            " keras_layer_2 (KerasLayer)  (None, 20)                400020    \n",
            "                                                                 \n",
            " dense_4 (Dense)             (None, 16)                336       \n",
            "                                                                 \n",
            " dense_5 (Dense)             (None, 1)                 17        \n",
            "                                                                 \n",
            "=================================================================\n",
            "Total params: 400373 (1.53 MB)\n",
            "Trainable params: 353 (1.38 KB)\n",
            "Non-trainable params: 400020 (1.53 MB)\n",
            "_________________________________________________________________\n"
          ]
        }
      ]
    },
    {
      "cell_type": "markdown",
      "source": [
        "## 4- Training"
      ],
      "metadata": {
        "id": "Ga1pt53Asy2L"
      }
    },
    {
      "cell_type": "code",
      "source": [
        "adam = keras.optimizers.Adam(learning_rate=0.0001)\n",
        "model2.compile(loss='binary_crossentropy', optimizer=adam, metrics=['accuracy'])"
      ],
      "metadata": {
        "id": "aedUzsBJs2cB"
      },
      "execution_count": 16,
      "outputs": []
    },
    {
      "cell_type": "code",
      "source": [
        "history2 = model2.fit(train_sentences, train_labels,\n",
        "                      batch_size=128,\n",
        "                      epochs=50,\n",
        "                      validation_data=(validation_sentences, validation_labels))"
      ],
      "metadata": {
        "colab": {
          "base_uri": "https://localhost:8080/"
        },
        "id": "KlKXOgRquOb9",
        "outputId": "2f284961-d135-495c-9969-876865c396f4"
      },
      "execution_count": 19,
      "outputs": [
        {
          "output_type": "stream",
          "name": "stdout",
          "text": [
            "Epoch 1/50\n",
            "180/180 [==============================] - 2s 4ms/step - loss: 0.7228 - accuracy: 0.4968 - val_loss: 0.7048 - val_accuracy: 0.5152\n",
            "Epoch 2/50\n",
            "180/180 [==============================] - 1s 3ms/step - loss: 0.7032 - accuracy: 0.5233 - val_loss: 0.6895 - val_accuracy: 0.5454\n",
            "Epoch 3/50\n",
            "180/180 [==============================] - 1s 3ms/step - loss: 0.6894 - accuracy: 0.5482 - val_loss: 0.6785 - val_accuracy: 0.5605\n",
            "Epoch 4/50\n",
            "180/180 [==============================] - 1s 3ms/step - loss: 0.6791 - accuracy: 0.5690 - val_loss: 0.6704 - val_accuracy: 0.5772\n",
            "Epoch 5/50\n",
            "180/180 [==============================] - 1s 3ms/step - loss: 0.6714 - accuracy: 0.5854 - val_loss: 0.6641 - val_accuracy: 0.5915\n",
            "Epoch 6/50\n",
            "180/180 [==============================] - 1s 4ms/step - loss: 0.6654 - accuracy: 0.5956 - val_loss: 0.6593 - val_accuracy: 0.6023\n",
            "Epoch 7/50\n",
            "180/180 [==============================] - 1s 4ms/step - loss: 0.6607 - accuracy: 0.6062 - val_loss: 0.6556 - val_accuracy: 0.6120\n",
            "Epoch 8/50\n",
            "180/180 [==============================] - 1s 4ms/step - loss: 0.6569 - accuracy: 0.6135 - val_loss: 0.6526 - val_accuracy: 0.6217\n",
            "Epoch 9/50\n",
            "180/180 [==============================] - 1s 5ms/step - loss: 0.6538 - accuracy: 0.6188 - val_loss: 0.6499 - val_accuracy: 0.6198\n",
            "Epoch 10/50\n",
            "180/180 [==============================] - 1s 3ms/step - loss: 0.6512 - accuracy: 0.6237 - val_loss: 0.6477 - val_accuracy: 0.6252\n",
            "Epoch 11/50\n",
            "180/180 [==============================] - 0s 3ms/step - loss: 0.6490 - accuracy: 0.6268 - val_loss: 0.6455 - val_accuracy: 0.6279\n",
            "Epoch 12/50\n",
            "180/180 [==============================] - 0s 3ms/step - loss: 0.6471 - accuracy: 0.6303 - val_loss: 0.6438 - val_accuracy: 0.6328\n",
            "Epoch 13/50\n",
            "180/180 [==============================] - 1s 3ms/step - loss: 0.6454 - accuracy: 0.6333 - val_loss: 0.6424 - val_accuracy: 0.6328\n",
            "Epoch 14/50\n",
            "180/180 [==============================] - 0s 3ms/step - loss: 0.6438 - accuracy: 0.6355 - val_loss: 0.6409 - val_accuracy: 0.6344\n",
            "Epoch 15/50\n",
            "180/180 [==============================] - 1s 3ms/step - loss: 0.6425 - accuracy: 0.6373 - val_loss: 0.6398 - val_accuracy: 0.6349\n",
            "Epoch 16/50\n",
            "180/180 [==============================] - 0s 3ms/step - loss: 0.6412 - accuracy: 0.6388 - val_loss: 0.6384 - val_accuracy: 0.6403\n",
            "Epoch 17/50\n",
            "180/180 [==============================] - 0s 3ms/step - loss: 0.6401 - accuracy: 0.6393 - val_loss: 0.6375 - val_accuracy: 0.6401\n",
            "Epoch 18/50\n",
            "180/180 [==============================] - 1s 3ms/step - loss: 0.6390 - accuracy: 0.6405 - val_loss: 0.6365 - val_accuracy: 0.6414\n",
            "Epoch 19/50\n",
            "180/180 [==============================] - 0s 3ms/step - loss: 0.6381 - accuracy: 0.6420 - val_loss: 0.6357 - val_accuracy: 0.6403\n",
            "Epoch 20/50\n",
            "180/180 [==============================] - 0s 3ms/step - loss: 0.6371 - accuracy: 0.6431 - val_loss: 0.6347 - val_accuracy: 0.6401\n",
            "Epoch 21/50\n",
            "180/180 [==============================] - 0s 3ms/step - loss: 0.6363 - accuracy: 0.6448 - val_loss: 0.6337 - val_accuracy: 0.6444\n",
            "Epoch 22/50\n",
            "180/180 [==============================] - 1s 3ms/step - loss: 0.6355 - accuracy: 0.6466 - val_loss: 0.6329 - val_accuracy: 0.6449\n",
            "Epoch 23/50\n",
            "180/180 [==============================] - 0s 3ms/step - loss: 0.6347 - accuracy: 0.6456 - val_loss: 0.6322 - val_accuracy: 0.6446\n",
            "Epoch 24/50\n",
            "180/180 [==============================] - 1s 3ms/step - loss: 0.6339 - accuracy: 0.6473 - val_loss: 0.6316 - val_accuracy: 0.6446\n",
            "Epoch 25/50\n",
            "180/180 [==============================] - 1s 3ms/step - loss: 0.6332 - accuracy: 0.6480 - val_loss: 0.6309 - val_accuracy: 0.6465\n",
            "Epoch 26/50\n",
            "180/180 [==============================] - 1s 3ms/step - loss: 0.6325 - accuracy: 0.6493 - val_loss: 0.6302 - val_accuracy: 0.6465\n",
            "Epoch 27/50\n",
            "180/180 [==============================] - 0s 3ms/step - loss: 0.6319 - accuracy: 0.6508 - val_loss: 0.6295 - val_accuracy: 0.6484\n",
            "Epoch 28/50\n",
            "180/180 [==============================] - 1s 3ms/step - loss: 0.6312 - accuracy: 0.6507 - val_loss: 0.6289 - val_accuracy: 0.6500\n",
            "Epoch 29/50\n",
            "180/180 [==============================] - 1s 4ms/step - loss: 0.6307 - accuracy: 0.6514 - val_loss: 0.6284 - val_accuracy: 0.6495\n",
            "Epoch 30/50\n",
            "180/180 [==============================] - 1s 4ms/step - loss: 0.6301 - accuracy: 0.6517 - val_loss: 0.6278 - val_accuracy: 0.6514\n",
            "Epoch 31/50\n",
            "180/180 [==============================] - 1s 5ms/step - loss: 0.6295 - accuracy: 0.6524 - val_loss: 0.6271 - val_accuracy: 0.6533\n",
            "Epoch 32/50\n",
            "180/180 [==============================] - 1s 4ms/step - loss: 0.6290 - accuracy: 0.6530 - val_loss: 0.6266 - val_accuracy: 0.6541\n",
            "Epoch 33/50\n",
            "180/180 [==============================] - 0s 3ms/step - loss: 0.6284 - accuracy: 0.6530 - val_loss: 0.6261 - val_accuracy: 0.6533\n",
            "Epoch 34/50\n",
            "180/180 [==============================] - 1s 3ms/step - loss: 0.6279 - accuracy: 0.6540 - val_loss: 0.6255 - val_accuracy: 0.6544\n",
            "Epoch 35/50\n",
            "180/180 [==============================] - 0s 3ms/step - loss: 0.6274 - accuracy: 0.6553 - val_loss: 0.6250 - val_accuracy: 0.6562\n",
            "Epoch 36/50\n",
            "180/180 [==============================] - 1s 3ms/step - loss: 0.6269 - accuracy: 0.6547 - val_loss: 0.6245 - val_accuracy: 0.6560\n",
            "Epoch 37/50\n",
            "180/180 [==============================] - 0s 3ms/step - loss: 0.6264 - accuracy: 0.6553 - val_loss: 0.6241 - val_accuracy: 0.6565\n",
            "Epoch 38/50\n",
            "180/180 [==============================] - 1s 3ms/step - loss: 0.6259 - accuracy: 0.6553 - val_loss: 0.6235 - val_accuracy: 0.6560\n",
            "Epoch 39/50\n",
            "180/180 [==============================] - 1s 3ms/step - loss: 0.6255 - accuracy: 0.6561 - val_loss: 0.6231 - val_accuracy: 0.6579\n",
            "Epoch 40/50\n",
            "180/180 [==============================] - 1s 3ms/step - loss: 0.6250 - accuracy: 0.6568 - val_loss: 0.6226 - val_accuracy: 0.6573\n",
            "Epoch 41/50\n",
            "180/180 [==============================] - 0s 3ms/step - loss: 0.6246 - accuracy: 0.6575 - val_loss: 0.6223 - val_accuracy: 0.6581\n",
            "Epoch 42/50\n",
            "180/180 [==============================] - 1s 3ms/step - loss: 0.6241 - accuracy: 0.6577 - val_loss: 0.6219 - val_accuracy: 0.6603\n",
            "Epoch 43/50\n",
            "180/180 [==============================] - 1s 3ms/step - loss: 0.6237 - accuracy: 0.6585 - val_loss: 0.6215 - val_accuracy: 0.6603\n",
            "Epoch 44/50\n",
            "180/180 [==============================] - 1s 3ms/step - loss: 0.6233 - accuracy: 0.6590 - val_loss: 0.6210 - val_accuracy: 0.6619\n",
            "Epoch 45/50\n",
            "180/180 [==============================] - 1s 3ms/step - loss: 0.6229 - accuracy: 0.6580 - val_loss: 0.6206 - val_accuracy: 0.6624\n",
            "Epoch 46/50\n",
            "180/180 [==============================] - 1s 3ms/step - loss: 0.6225 - accuracy: 0.6585 - val_loss: 0.6203 - val_accuracy: 0.6622\n",
            "Epoch 47/50\n",
            "180/180 [==============================] - 1s 3ms/step - loss: 0.6220 - accuracy: 0.6581 - val_loss: 0.6200 - val_accuracy: 0.6633\n",
            "Epoch 48/50\n",
            "180/180 [==============================] - 1s 3ms/step - loss: 0.6217 - accuracy: 0.6587 - val_loss: 0.6195 - val_accuracy: 0.6624\n",
            "Epoch 49/50\n",
            "180/180 [==============================] - 0s 3ms/step - loss: 0.6213 - accuracy: 0.6590 - val_loss: 0.6191 - val_accuracy: 0.6635\n",
            "Epoch 50/50\n",
            "180/180 [==============================] - 1s 3ms/step - loss: 0.6209 - accuracy: 0.6587 - val_loss: 0.6187 - val_accuracy: 0.6635\n"
          ]
        }
      ]
    },
    {
      "cell_type": "code",
      "source": [
        "def plot_graphs(history, string):\n",
        "  plt.plot(history.history[string])\n",
        "  plt.plot(history.history['val_'+string])\n",
        "  plt.xlabel(\"Epochs\")\n",
        "  plt.ylabel(string)\n",
        "  plt.legend([string, 'val_'+string])\n",
        "  plt.show()\n",
        "\n",
        "plot_graphs(history2, \"accuracy\")\n",
        "plot_graphs(history2, \"loss\")"
      ],
      "metadata": {
        "colab": {
          "base_uri": "https://localhost:8080/",
          "height": 881
        },
        "id": "346O3fWV1w7C",
        "outputId": "9f584c12-153a-4936-94e4-93235944fb8d"
      },
      "execution_count": 20,
      "outputs": [
        {
          "output_type": "display_data",
          "data": {
            "text/plain": [
              "<Figure size 640x480 with 1 Axes>"
            ],
            "image/png": "[encoded data removed]"
          },
          "metadata": {}
        },
        {
          "output_type": "display_data",
          "data": {
            "text/plain": [
              "<Figure size 640x480 with 1 Axes>"
            ],
            "image/png": "[encoded data removed]"
          },
          "metadata": {}
        }
      ]
    },
    {
      "cell_type": "code",
      "source": [
        "test_sentences = [\"granny starting to fear spiders in the garden might be real\",\n",
        "                  \"game of thrones season finale showing this sunday night\",\n",
        "                  \"TensorFlow book will be a best seller\"]\n",
        "# Remove stop-words"
      ],
      "metadata": {
        "id": "r_2oCywI2xdK"
      },
      "execution_count": 21,
      "outputs": []
    },
    {
      "cell_type": "code",
      "source": [
        "preds = model2.predict(test_sentences)\n",
        "print(preds)"
      ],
      "metadata": {
        "colab": {
          "base_uri": "https://localhost:8080/"
        },
        "id": "Nehanfuq3dMj",
        "outputId": "98393a92-931a-4272-e6bf-94ef8f4782f8"
      },
      "execution_count": 22,
      "outputs": [
        {
          "output_type": "stream",
          "name": "stdout",
          "text": [
            "1/1 [==============================] - 0s 191ms/step\n",
            "[[0.5716044 ]\n",
            " [0.28514203]\n",
            " [0.40073356]]\n"
          ]
        }
      ]
    }
  ]
}