{
  "nbformat": 4,
  "nbformat_minor": 0,
  "metadata": {
    "colab": {
      "provenance": []
    },
    "kernelspec": {
      "name": "python3",
      "display_name": "Python 3"
    },
    "language_info": {
      "name": "python"
    }
  },
  "cells": [
    {
      "cell_type": "markdown",
      "source": [
        "# Binary Classification"
      ],
      "metadata": {
        "id": "cRQBAqEFt5pA"
      }
    },
    {
      "cell_type": "code",
      "source": [
        "%%capture\n",
        "!pip install ipython-autotime"
      ],
      "metadata": {
        "id": "oZXrBKtIyIpW"
      },
      "execution_count": null,
      "outputs": []
    },
    {
      "cell_type": "code",
      "source": [
        "import time\n",
        "import numpy as np\n",
        "from tensorflow.keras.datasets import imdb\n",
        "from tensorflow.keras import Sequential\n",
        "from tensorflow.keras import layers"
      ],
      "metadata": {
        "id": "zKeS9xuSuXkH"
      },
      "execution_count": null,
      "outputs": []
    },
    {
      "cell_type": "markdown",
      "source": [
        "## 1- Data preparation"
      ],
      "metadata": {
        "id": "b3Gj9GeCt_dy"
      }
    },
    {
      "cell_type": "code",
      "source": [
        "(train_data, train_labels), (test_data, test_labels) = imdb.load_data(num_words=10000)"
      ],
      "metadata": {
        "id": "zas4n2B5q-JI",
        "colab": {
          "base_uri": "https://localhost:8080/"
        },
        "outputId": "29518248-4edb-4f2e-8def-409c8c764d51"
      },
      "execution_count": null,
      "outputs": [
        {
          "output_type": "stream",
          "name": "stdout",
          "text": [
            "Downloading data from https://storage.googleapis.com/tensorflow/tf-keras-datasets/imdb.npz\n",
            "17464789/17464789 [==============================] - 1s 0us/step\n"
          ]
        }
      ]
    },
    {
      "cell_type": "code",
      "source": [
        "train_data.shape"
      ],
      "metadata": {
        "colab": {
          "base_uri": "https://localhost:8080/"
        },
        "id": "9rEf1uYNvQqZ",
        "outputId": "c632077e-a009-4f31-ad9e-70792b12afd4"
      },
      "execution_count": null,
      "outputs": [
        {
          "output_type": "execute_result",
          "data": {
            "text/plain": [
              "(25000,)"
            ]
          },
          "metadata": {},
          "execution_count": 44
        }
      ]
    },
    {
      "cell_type": "code",
      "source": [
        "train_labels[0]"
      ],
      "metadata": {
        "colab": {
          "base_uri": "https://localhost:8080/"
        },
        "id": "2cVCGS8Tvb3X",
        "outputId": "88a0959f-92fc-465c-c0a1-cc01e5d8198b"
      },
      "execution_count": null,
      "outputs": [
        {
          "output_type": "execute_result",
          "data": {
            "text/plain": [
              "1"
            ]
          },
          "metadata": {},
          "execution_count": 45
        }
      ]
    },
    {
      "cell_type": "code",
      "source": [
        "word_index = imdb.get_word_index()"
      ],
      "metadata": {
        "id": "GwFp6n56wO7G"
      },
      "execution_count": null,
      "outputs": []
    },
    {
      "cell_type": "code",
      "source": [
        "%load_ext autotime"
      ],
      "metadata": {
        "id": "LlwrhdMCzsiV"
      },
      "execution_count": null,
      "outputs": []
    },
    {
      "cell_type": "code",
      "source": [
        "def vectorize_sequences(sequences, dimension=10000):\n",
        "  results = np.zeros((len(sequences), dimension))\n",
        "  for i, sequence in enumerate(sequences):\n",
        "    for j in sequence:\n",
        "      results[i, j] = 1.\n",
        "  return results\n",
        "\n",
        "x_train = vectorize_sequences(train_data)\n",
        "x_test = vectorize_sequences(test_data)"
      ],
      "metadata": {
        "id": "mt1x0VuXyH92",
        "colab": {
          "base_uri": "https://localhost:8080/"
        },
        "outputId": "c9f05ac9-02b8-40d0-dcaa-ec929e267baf"
      },
      "execution_count": null,
      "outputs": [
        {
          "output_type": "stream",
          "name": "stdout",
          "text": [
            "time: 6.1 s (started: 2023-08-14 20:47:03 +00:00)\n"
          ]
        }
      ]
    },
    {
      "cell_type": "code",
      "source": [
        "%unload_ext autotime"
      ],
      "metadata": {
        "id": "rIiarYmSzfC9"
      },
      "execution_count": null,
      "outputs": []
    },
    {
      "cell_type": "code",
      "source": [
        "x_train.shape"
      ],
      "metadata": {
        "colab": {
          "base_uri": "https://localhost:8080/"
        },
        "id": "S5Zs1ylzyXXG",
        "outputId": "c9d6aa14-e301-4240-e751-e753106d234f"
      },
      "execution_count": null,
      "outputs": [
        {
          "output_type": "execute_result",
          "data": {
            "text/plain": [
              "(25000, 10000)"
            ]
          },
          "metadata": {},
          "execution_count": 13
        }
      ]
    },
    {
      "cell_type": "code",
      "source": [
        "train_labels.dtype"
      ],
      "metadata": {
        "id": "91x1M1Cbyvxt",
        "outputId": "ea7938d1-b1cf-4cf1-e49c-d65fb47f622e",
        "colab": {
          "base_uri": "https://localhost:8080/"
        }
      },
      "execution_count": null,
      "outputs": [
        {
          "output_type": "execute_result",
          "data": {
            "text/plain": [
              "dtype('int64')"
            ]
          },
          "metadata": {},
          "execution_count": 49
        }
      ]
    },
    {
      "cell_type": "code",
      "source": [
        "y_train = np.asarray(train_labels).astype(\"float32\")\n",
        "y_test = np.asarray(test_labels).astype(\"float32\")"
      ],
      "metadata": {
        "id": "Eb4enG3yyyU3"
      },
      "execution_count": null,
      "outputs": []
    },
    {
      "cell_type": "code",
      "source": [
        "y_train.dtype"
      ],
      "metadata": {
        "id": "dbUiVlL5y0ku",
        "outputId": "0a65bc40-bfd1-43b2-fd39-078b3590516c",
        "colab": {
          "base_uri": "https://localhost:8080/"
        }
      },
      "execution_count": null,
      "outputs": [
        {
          "output_type": "execute_result",
          "data": {
            "text/plain": [
              "dtype('float32')"
            ]
          },
          "metadata": {},
          "execution_count": 51
        }
      ]
    },
    {
      "cell_type": "markdown",
      "source": [
        "## 2- Model Design"
      ],
      "metadata": {
        "id": "lo_GljT4uCvg"
      }
    },
    {
      "cell_type": "code",
      "source": [
        "model = Sequential([\n",
        "    layers.Dense(16, activation='relu', input_shape=(10000,)),\n",
        "    layers.Dense(16, activation='relu'),\n",
        "    layers.Dense(1, activation='sigmoid')\n",
        "])\n",
        "\n",
        "model.summary()"
      ],
      "metadata": {
        "id": "M1NtbKJsuFDI",
        "colab": {
          "base_uri": "https://localhost:8080/"
        },
        "outputId": "d9d54293-cad5-4104-ce58-0736e1989a4e"
      },
      "execution_count": null,
      "outputs": [
        {
          "output_type": "stream",
          "name": "stdout",
          "text": [
            "Model: \"sequential\"\n",
            "_________________________________________________________________\n",
            " Layer (type)                Output Shape              Param #   \n",
            "=================================================================\n",
            " dense (Dense)               (None, 16)                160016    \n",
            "                                                                 \n",
            " dense_1 (Dense)             (None, 16)                272       \n",
            "                                                                 \n",
            " dense_2 (Dense)             (None, 1)                 17        \n",
            "                                                                 \n",
            "=================================================================\n",
            "Total params: 160,305\n",
            "Trainable params: 160,305\n",
            "Non-trainable params: 0\n",
            "_________________________________________________________________\n"
          ]
        }
      ]
    },
    {
      "cell_type": "markdown",
      "source": [
        "## 3- Training"
      ],
      "metadata": {
        "id": "uJ4_7P5_uFbv"
      }
    },
    {
      "cell_type": "code",
      "source": [
        "%load_ext autotime"
      ],
      "metadata": {
        "colab": {
          "base_uri": "https://localhost:8080/"
        },
        "id": "D5PQTF2oyyne",
        "outputId": "aac9c63e-c1e0-4ba7-ab35-fb81f474296c"
      },
      "execution_count": null,
      "outputs": [
        {
          "output_type": "stream",
          "name": "stdout",
          "text": [
            "time: 359 µs (started: 2023-08-14 20:45:06 +00:00)\n"
          ]
        }
      ]
    },
    {
      "cell_type": "code",
      "source": [
        "model.compile(optimizer='adam', loss='binary_crossentropy',\n",
        "              metrics=['accuracy'])\n",
        "\n",
        "x_val = x_train[:10000]\n",
        "partial_x_train = x_train[10000:]\n",
        "y_val = y_train[:10000]\n",
        "partial_y_train = y_train[10000:]\n",
        "\n",
        "start = time.time()\n",
        "history = model.fit(x=partial_x_train, y=partial_y_train,\n",
        "                    batch_size=512,\n",
        "                    epochs=20,\n",
        "                    validation_data=(x_val, y_val))\n",
        "end = time.time()\n",
        "print(f'Execution time: {end-start} s')"
      ],
      "metadata": {
        "colab": {
          "base_uri": "https://localhost:8080/"
        },
        "id": "nOIg344Y21VH",
        "outputId": "3a848672-cc58-4168-e15e-088fa4d01edb"
      },
      "execution_count": null,
      "outputs": [
        {
          "output_type": "stream",
          "name": "stdout",
          "text": [
            "Epoch 1/20\n",
            "30/30 [==============================] - 3s 78ms/step - loss: 0.0041 - accuracy: 0.9999 - val_loss: 0.7259 - val_accuracy: 0.8629\n",
            "Epoch 2/20\n",
            "30/30 [==============================] - 2s 71ms/step - loss: 0.0021 - accuracy: 1.0000 - val_loss: 0.7810 - val_accuracy: 0.8633\n",
            "Epoch 3/20\n",
            "30/30 [==============================] - 1s 43ms/step - loss: 0.0013 - accuracy: 1.0000 - val_loss: 0.8217 - val_accuracy: 0.8641\n",
            "Epoch 4/20\n",
            "30/30 [==============================] - 1s 41ms/step - loss: 7.9775e-04 - accuracy: 1.0000 - val_loss: 0.8588 - val_accuracy: 0.8642\n",
            "Epoch 5/20\n",
            "30/30 [==============================] - 1s 41ms/step - loss: 5.6046e-04 - accuracy: 1.0000 - val_loss: 0.8863 - val_accuracy: 0.8639\n",
            "Epoch 6/20\n",
            "30/30 [==============================] - 1s 41ms/step - loss: 4.2542e-04 - accuracy: 1.0000 - val_loss: 0.9129 - val_accuracy: 0.8635\n",
            "Epoch 7/20\n",
            "30/30 [==============================] - 1s 41ms/step - loss: 3.3827e-04 - accuracy: 1.0000 - val_loss: 0.9389 - val_accuracy: 0.8630\n",
            "Epoch 8/20\n",
            "30/30 [==============================] - 1s 41ms/step - loss: 2.7790e-04 - accuracy: 1.0000 - val_loss: 0.9584 - val_accuracy: 0.8631\n",
            "Epoch 9/20\n",
            "30/30 [==============================] - 1s 50ms/step - loss: 2.3106e-04 - accuracy: 1.0000 - val_loss: 0.9783 - val_accuracy: 0.8628\n",
            "Epoch 10/20\n",
            "30/30 [==============================] - 2s 53ms/step - loss: 1.9645e-04 - accuracy: 1.0000 - val_loss: 0.9975 - val_accuracy: 0.8620\n",
            "Epoch 11/20\n",
            "30/30 [==============================] - 2s 71ms/step - loss: 1.6874e-04 - accuracy: 1.0000 - val_loss: 1.0124 - val_accuracy: 0.8623\n",
            "Epoch 12/20\n",
            "30/30 [==============================] - 1s 42ms/step - loss: 1.4683e-04 - accuracy: 1.0000 - val_loss: 1.0286 - val_accuracy: 0.8617\n",
            "Epoch 13/20\n",
            "30/30 [==============================] - 1s 40ms/step - loss: 1.2877e-04 - accuracy: 1.0000 - val_loss: 1.0440 - val_accuracy: 0.8616\n",
            "Epoch 14/20\n",
            "30/30 [==============================] - 1s 42ms/step - loss: 1.1415e-04 - accuracy: 1.0000 - val_loss: 1.0587 - val_accuracy: 0.8614\n",
            "Epoch 15/20\n",
            "30/30 [==============================] - 1s 42ms/step - loss: 1.0165e-04 - accuracy: 1.0000 - val_loss: 1.0714 - val_accuracy: 0.8616\n",
            "Epoch 16/20\n",
            "30/30 [==============================] - 1s 44ms/step - loss: 9.1223e-05 - accuracy: 1.0000 - val_loss: 1.0838 - val_accuracy: 0.8618\n",
            "Epoch 17/20\n",
            "30/30 [==============================] - 3s 108ms/step - loss: 8.2381e-05 - accuracy: 1.0000 - val_loss: 1.0966 - val_accuracy: 0.8616\n",
            "Epoch 18/20\n",
            "30/30 [==============================] - 3s 103ms/step - loss: 7.4701e-05 - accuracy: 1.0000 - val_loss: 1.1080 - val_accuracy: 0.8613\n",
            "Epoch 19/20\n",
            "30/30 [==============================] - 2s 69ms/step - loss: 6.8021e-05 - accuracy: 1.0000 - val_loss: 1.1189 - val_accuracy: 0.8613\n",
            "Epoch 20/20\n",
            "30/30 [==============================] - 1s 39ms/step - loss: 6.2284e-05 - accuracy: 1.0000 - val_loss: 1.1294 - val_accuracy: 0.8614\n",
            "Execution time: 42.66405200958252\n",
            "time: 42.7 s (started: 2023-08-14 20:45:29 +00:00)\n"
          ]
        }
      ]
    },
    {
      "cell_type": "code",
      "source": [
        "%unload_ext autotime"
      ],
      "metadata": {
        "id": "oCkP7u9Gzvcc"
      },
      "execution_count": null,
      "outputs": []
    },
    {
      "cell_type": "markdown",
      "source": [
        "## 4- Evaluation"
      ],
      "metadata": {
        "id": "N3gFvQRBuHlv"
      }
    },
    {
      "cell_type": "code",
      "source": [
        "history.history.keys()"
      ],
      "metadata": {
        "id": "l205xoHwuJjf",
        "colab": {
          "base_uri": "https://localhost:8080/"
        },
        "outputId": "cc3ed6fd-7698-452e-dab4-95a3b6ef082e"
      },
      "execution_count": null,
      "outputs": [
        {
          "output_type": "execute_result",
          "data": {
            "text/plain": [
              "dict_keys(['loss', 'accuracy', 'val_loss', 'val_accuracy'])"
            ]
          },
          "metadata": {},
          "execution_count": 54
        }
      ]
    },
    {
      "cell_type": "code",
      "source": [
        "import matplotlib.pyplot as plt\n",
        "\n",
        "losses = history.history['loss']\n",
        "val_losses = history.history['val_loss']\n",
        "\n",
        "plt.plot(losses, label='Train loss')\n",
        "plt.plot(val_losses, label='Validation loss')\n",
        "plt.legend()\n",
        "plt.show()"
      ],
      "metadata": {
        "colab": {
          "base_uri": "https://localhost:8080/",
          "height": 430
        },
        "id": "g6mF-KUvSWEC",
        "outputId": "33cf9529-cd29-4a7e-bf44-5857a5cbb05a"
      },
      "execution_count": null,
      "outputs": [
        {
          "output_type": "display_data",
          "data": {
            "text/plain": [
              "<Figure size 640x480 with 1 Axes>"
            ],
            "image/png": "[encoded data removed]"
          },
          "metadata": {}
        }
      ]
    },
    {
      "cell_type": "code",
      "source": [
        "accuracies = history.history['accuracy']\n",
        "val_accuracies = history.history['val_accuracy']\n",
        "\n",
        "plt.plot(accuracies, label='Train accuracy')\n",
        "plt.plot(val_accuracies, label='Validation accuracy')\n",
        "plt.legend()\n",
        "plt.show()"
      ],
      "metadata": {
        "colab": {
          "base_uri": "https://localhost:8080/",
          "height": 430
        },
        "id": "9rspAdSTTJ90",
        "outputId": "0a8e304b-6d78-400d-c236-ccb66b40260f"
      },
      "execution_count": null,
      "outputs": [
        {
          "output_type": "display_data",
          "data": {
            "text/plain": [
              "<Figure size 640x480 with 1 Axes>"
            ],
            "image/png": "[encoded data removed]"
          },
          "metadata": {}
        }
      ]
    },
    {
      "cell_type": "code",
      "source": [
        "model.evaluate(x_test, y_test)"
      ],
      "metadata": {
        "colab": {
          "base_uri": "https://localhost:8080/"
        },
        "id": "IKJYTBoETsF4",
        "outputId": "631e8e04-610f-41b7-f861-f92ede369b37"
      },
      "execution_count": null,
      "outputs": [
        {
          "output_type": "stream",
          "name": "stdout",
          "text": [
            "782/782 [==============================] - 4s 5ms/step - loss: 0.6653 - accuracy: 0.8614\n"
          ]
        },
        {
          "output_type": "execute_result",
          "data": {
            "text/plain": [
              "[0.6653433442115784, 0.8614400029182434]"
            ]
          },
          "metadata": {},
          "execution_count": 57
        }
      ]
    },
    {
      "cell_type": "code",
      "source": [
        "preds = model.predict(x_test)"
      ],
      "metadata": {
        "colab": {
          "base_uri": "https://localhost:8080/"
        },
        "id": "VAS9aFISUJou",
        "outputId": "90837006-66d0-4aa0-fe51-f0b2bb1e8ff1"
      },
      "execution_count": null,
      "outputs": [
        {
          "output_type": "stream",
          "name": "stdout",
          "text": [
            "782/782 [==============================] - 2s 2ms/step\n"
          ]
        }
      ]
    },
    {
      "cell_type": "code",
      "source": [
        "preds"
      ],
      "metadata": {
        "colab": {
          "base_uri": "https://localhost:8080/"
        },
        "id": "Xq4GaibrUYyK",
        "outputId": "9916c8cb-3091-475a-8d29-473b0c92dc4f"
      },
      "execution_count": null,
      "outputs": [
        {
          "output_type": "execute_result",
          "data": {
            "text/plain": [
              "array([[0.00496731],\n",
              "       [1.        ],\n",
              "       [0.9436734 ],\n",
              "       ...,\n",
              "       [0.0023348 ],\n",
              "       [0.00162342],\n",
              "       [0.64528555]], dtype=float32)"
            ]
          },
          "metadata": {},
          "execution_count": 59
        }
      ]
    },
    {
      "cell_type": "code",
      "source": [
        "preds[preds<0.5] = 0\n",
        "preds[preds>=0.5] = 1\n",
        "preds"
      ],
      "metadata": {
        "colab": {
          "base_uri": "https://localhost:8080/"
        },
        "id": "IUSA1SzOU5rX",
        "outputId": "6804e887-6b54-4b5e-e302-66af1179fc97"
      },
      "execution_count": null,
      "outputs": [
        {
          "output_type": "execute_result",
          "data": {
            "text/plain": [
              "array([[0.],\n",
              "       [1.],\n",
              "       [1.],\n",
              "       ...,\n",
              "       [0.],\n",
              "       [0.],\n",
              "       [1.]], dtype=float32)"
            ]
          },
          "metadata": {},
          "execution_count": 60
        }
      ]
    },
    {
      "cell_type": "code",
      "source": [
        "from sklearn.metrics import classification_report\n",
        "\n",
        "print(classification_report(y_test, preds, target_names=['Negative', 'Positive']))"
      ],
      "metadata": {
        "colab": {
          "base_uri": "https://localhost:8080/"
        },
        "id": "DrnRaIHLVlaD",
        "outputId": "3e40588e-fa68-4648-873a-461476196489"
      },
      "execution_count": null,
      "outputs": [
        {
          "output_type": "stream",
          "name": "stdout",
          "text": [
            "              precision    recall  f1-score   support\n",
            "\n",
            "    Negative       0.86      0.87      0.86     12500\n",
            "    Positive       0.87      0.85      0.86     12500\n",
            "\n",
            "    accuracy                           0.86     25000\n",
            "   macro avg       0.86      0.86      0.86     25000\n",
            "weighted avg       0.86      0.86      0.86     25000\n",
            "\n"
          ]
        }
      ]
    }
  ]
}