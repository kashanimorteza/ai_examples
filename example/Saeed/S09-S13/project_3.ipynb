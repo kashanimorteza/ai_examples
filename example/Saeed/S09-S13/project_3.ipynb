{
 "cells": [
  {
   "cell_type": "markdown",
   "metadata": {
    "id": "ps-Ml4XocZif"
   },
   "source": [
    "# Regression"
   ]
  },
  {
   "cell_type": "code",
   "execution_count": null,
   "metadata": {
    "id": "U6T7w8yVcrw9"
   },
   "outputs": [],
   "source": [
    "from tensorflow.keras.datasets import boston_housing\n",
    "from tensorflow.keras import Sequential\n",
    "from tensorflow.keras import layers\n",
    "import matplotlib.pyplot as plt"
   ]
  },
  {
   "cell_type": "markdown",
   "metadata": {
    "id": "M6vW3g7XccRl"
   },
   "source": [
    "## 1- Data preparation"
   ]
  },
  {
   "cell_type": "code",
   "execution_count": null,
   "metadata": {
    "id": "hRhmnHsZdeUV"
   },
   "outputs": [],
   "source": [
    "(train_data, train_labels), (test_data, test_labels) = boston_housing.load_data()"
   ]
  },
  {
   "cell_type": "code",
   "execution_count": null,
   "metadata": {
    "colab": {
     "base_uri": "https://localhost:8080/"
    },
    "id": "eFtWLV1ldi5a",
    "outputId": "84a269ee-c7b3-490f-d56e-0d6e5d324337"
   },
   "outputs": [
    {
     "data": {
      "text/plain": [
       "(404, 13)"
      ]
     },
     "execution_count": 3,
     "metadata": {},
     "output_type": "execute_result"
    }
   ],
   "source": [
    "train_data.shape"
   ]
  },
  {
   "cell_type": "code",
   "execution_count": null,
   "metadata": {
    "colab": {
     "base_uri": "https://localhost:8080/"
    },
    "id": "mKUT-Fuedp4s",
    "outputId": "4cfe2d5d-3445-4a47-f368-92cbb7dd2c54"
   },
   "outputs": [
    {
     "data": {
      "text/plain": [
       "array([  1.23247,   0.     ,   8.14   ,   0.     ,   0.538  ,   6.142  ,\n",
       "        91.7    ,   3.9769 ,   4.     , 307.     ,  21.     , 396.9    ,\n",
       "        18.72   ])"
      ]
     },
     "execution_count": 4,
     "metadata": {},
     "output_type": "execute_result"
    }
   ],
   "source": [
    "train_data[0]"
   ]
  },
  {
   "cell_type": "code",
   "execution_count": null,
   "metadata": {
    "colab": {
     "base_uri": "https://localhost:8080/"
    },
    "id": "EJkQx2cNd2I0",
    "outputId": "af2a55d8-405d-49b6-bda7-d48988d8a4b9"
   },
   "outputs": [
    {
     "data": {
      "text/plain": [
       "15.2"
      ]
     },
     "execution_count": 5,
     "metadata": {},
     "output_type": "execute_result"
    }
   ],
   "source": [
    "train_labels[0]"
   ]
  },
  {
   "cell_type": "code",
   "execution_count": null,
   "metadata": {
    "colab": {
     "base_uri": "https://localhost:8080/"
    },
    "id": "obwvBUr6eX7j",
    "outputId": "986b541e-5791-4b0c-c704-ed56d5c13ee9"
   },
   "outputs": [
    {
     "data": {
      "text/plain": [
       "array([3.74511057e+00, 1.14801980e+01, 1.11044307e+01, 6.18811881e-02,\n",
       "       5.57355941e-01, 6.26708168e+00, 6.90106436e+01, 3.74027079e+00,\n",
       "       9.44059406e+00, 4.05898515e+02, 1.84759901e+01, 3.54783168e+02,\n",
       "       1.27408168e+01])"
      ]
     },
     "execution_count": 6,
     "metadata": {},
     "output_type": "execute_result"
    }
   ],
   "source": [
    "mean = train_data.mean(axis=0)\n",
    "mean"
   ]
  },
  {
   "cell_type": "code",
   "execution_count": null,
   "metadata": {
    "colab": {
     "base_uri": "https://localhost:8080/"
    },
    "id": "G7lb5b1Ee55b",
    "outputId": "e5fb5440-bc7d-4752-8f4b-c8e6e032aec1"
   },
   "outputs": [
    {
     "data": {
      "text/plain": [
       "array([9.22929073e+00, 2.37382770e+01, 6.80287253e+00, 2.40939633e-01,\n",
       "       1.17147847e-01, 7.08908627e-01, 2.79060634e+01, 2.02770050e+00,\n",
       "       8.68758849e+00, 1.66168506e+02, 2.19765689e+00, 9.39946015e+01,\n",
       "       7.24556085e+00])"
      ]
     },
     "execution_count": 7,
     "metadata": {},
     "output_type": "execute_result"
    }
   ],
   "source": [
    "std = train_data.std(axis=0)\n",
    "std"
   ]
  },
  {
   "cell_type": "code",
   "execution_count": null,
   "metadata": {
    "id": "cvAGOqUMfA1y"
   },
   "outputs": [],
   "source": [
    "train_data = train_data - mean\n",
    "train_data = train_data / std"
   ]
  },
  {
   "cell_type": "code",
   "execution_count": null,
   "metadata": {
    "colab": {
     "base_uri": "https://localhost:8080/"
    },
    "id": "ihklWdGhfKyq",
    "outputId": "ea840f2b-5298-4603-b5e3-fbc1e4a6fafe"
   },
   "outputs": [
    {
     "data": {
      "text/plain": [
       "array([-0.27224633, -0.48361547, -0.43576161, -0.25683275, -0.1652266 ,\n",
       "       -0.1764426 ,  0.81306188,  0.1166983 , -0.62624905, -0.59517003,\n",
       "        1.14850044,  0.44807713,  0.8252202 ])"
      ]
     },
     "execution_count": 9,
     "metadata": {},
     "output_type": "execute_result"
    }
   ],
   "source": [
    "train_data[0]"
   ]
  },
  {
   "cell_type": "markdown",
   "metadata": {
    "id": "2VumsMe6cegk"
   },
   "source": [
    "## 2- Model design"
   ]
  },
  {
   "cell_type": "code",
   "execution_count": null,
   "metadata": {
    "id": "jTSS5VL0ciN3"
   },
   "outputs": [],
   "source": [
    "def build_model():\n",
    "  model = Sequential([\n",
    "      layers.Dense(64, activation=\"relu\", input_shape=(13,)),\n",
    "      layers.Dense(64, activation=\"relu\"),\n",
    "      layers.Dense(1)\n",
    "      ])\n",
    "\n",
    "  model.compile(optimizer=\"rmsprop\", loss=\"mse\", metrics=[\"mae\"])\n",
    "  return model"
   ]
  },
  {
   "cell_type": "code",
   "execution_count": null,
   "metadata": {
    "colab": {
     "base_uri": "https://localhost:8080/"
    },
    "id": "pN8FnRxCgFJR",
    "outputId": "2520800e-61ca-4fc3-bde3-c51cc36b7607"
   },
   "outputs": [
    {
     "name": "stdout",
     "output_type": "stream",
     "text": [
      "Model: \"sequential_4\"\n",
      "_________________________________________________________________\n",
      " Layer (type)                Output Shape              Param #   \n",
      "=================================================================\n",
      " dense_12 (Dense)            (None, 64)                896       \n",
      "                                                                 \n",
      " dense_13 (Dense)            (None, 64)                4160      \n",
      "                                                                 \n",
      " dense_14 (Dense)            (None, 1)                 65        \n",
      "                                                                 \n",
      "=================================================================\n",
      "Total params: 5,121\n",
      "Trainable params: 5,121\n",
      "Non-trainable params: 0\n",
      "_________________________________________________________________\n"
     ]
    }
   ],
   "source": [
    "model = build_model()\n",
    "model.summary()"
   ]
  },
  {
   "cell_type": "markdown",
   "metadata": {
    "id": "YoJ8deXccigl"
   },
   "source": [
    "## 3- Training"
   ]
  },
  {
   "cell_type": "code",
   "execution_count": null,
   "metadata": {
    "colab": {
     "base_uri": "https://localhost:8080/"
    },
    "id": "hJjW10MjckZu",
    "outputId": "eb0d1268-5942-4142-ed04-d78c6fdc38a5"
   },
   "outputs": [
    {
     "name": "stdout",
     "output_type": "stream",
     "text": [
      "Epoch 1/20\n",
      "21/21 [==============================] - 1s 11ms/step - loss: 504.2651 - mae: 20.4461 - val_loss: 505.4816 - val_mae: 20.4271\n",
      "Epoch 2/20\n",
      "21/21 [==============================] - 0s 4ms/step - loss: 364.4027 - mae: 16.8507 - val_loss: 347.2789 - val_mae: 16.3479\n",
      "Epoch 3/20\n",
      "21/21 [==============================] - 0s 4ms/step - loss: 219.6273 - mae: 12.3850 - val_loss: 208.9133 - val_mae: 11.6074\n",
      "Epoch 4/20\n",
      "21/21 [==============================] - 0s 4ms/step - loss: 118.3596 - mae: 8.5269 - val_loss: 117.0850 - val_mae: 8.2345\n",
      "Epoch 5/20\n",
      "21/21 [==============================] - 0s 3ms/step - loss: 71.3668 - mae: 6.3855 - val_loss: 80.6723 - val_mae: 6.6471\n",
      "Epoch 6/20\n",
      "21/21 [==============================] - 0s 3ms/step - loss: 48.1939 - mae: 5.0201 - val_loss: 52.3976 - val_mae: 5.1953\n",
      "Epoch 7/20\n",
      "21/21 [==============================] - 0s 3ms/step - loss: 35.0617 - mae: 4.0994 - val_loss: 38.4194 - val_mae: 4.4386\n",
      "Epoch 8/20\n",
      "21/21 [==============================] - 0s 4ms/step - loss: 29.0339 - mae: 3.6839 - val_loss: 32.7032 - val_mae: 4.0190\n",
      "Epoch 9/20\n",
      "21/21 [==============================] - 0s 4ms/step - loss: 25.4397 - mae: 3.3737 - val_loss: 27.3258 - val_mae: 3.9084\n",
      "Epoch 10/20\n",
      "21/21 [==============================] - 0s 4ms/step - loss: 22.8517 - mae: 3.2460 - val_loss: 24.2680 - val_mae: 3.6845\n",
      "Epoch 11/20\n",
      "21/21 [==============================] - 0s 4ms/step - loss: 20.7937 - mae: 3.0333 - val_loss: 21.6952 - val_mae: 3.5106\n",
      "Epoch 12/20\n",
      "21/21 [==============================] - 0s 4ms/step - loss: 19.2260 - mae: 2.9813 - val_loss: 22.4625 - val_mae: 3.3786\n",
      "Epoch 13/20\n",
      "21/21 [==============================] - 0s 5ms/step - loss: 17.6982 - mae: 2.8356 - val_loss: 18.5786 - val_mae: 3.2869\n",
      "Epoch 14/20\n",
      "21/21 [==============================] - 0s 5ms/step - loss: 16.6706 - mae: 2.7342 - val_loss: 18.8556 - val_mae: 3.3978\n",
      "Epoch 15/20\n",
      "21/21 [==============================] - 0s 4ms/step - loss: 15.4075 - mae: 2.7151 - val_loss: 16.8237 - val_mae: 3.1271\n",
      "Epoch 16/20\n",
      "21/21 [==============================] - 0s 3ms/step - loss: 14.7505 - mae: 2.6180 - val_loss: 16.2402 - val_mae: 3.1183\n",
      "Epoch 17/20\n",
      "21/21 [==============================] - 0s 4ms/step - loss: 13.7714 - mae: 2.5269 - val_loss: 16.2081 - val_mae: 2.9515\n",
      "Epoch 18/20\n",
      "21/21 [==============================] - 0s 4ms/step - loss: 13.1599 - mae: 2.4928 - val_loss: 15.3103 - val_mae: 3.0145\n",
      "Epoch 19/20\n",
      "21/21 [==============================] - 0s 4ms/step - loss: 12.6037 - mae: 2.3749 - val_loss: 15.2102 - val_mae: 2.9063\n",
      "Epoch 20/20\n",
      "21/21 [==============================] - 0s 4ms/step - loss: 12.2124 - mae: 2.4586 - val_loss: 14.5502 - val_mae: 2.9232\n"
     ]
    }
   ],
   "source": [
    "history = model.fit(train_data, train_labels,\n",
    "                    batch_size=16,\n",
    "                    epochs=20,\n",
    "                    validation_split=0.2)"
   ]
  },
  {
   "cell_type": "markdown",
   "metadata": {
    "id": "W4eKe3Pack1t"
   },
   "source": [
    "## 4- Evaluation"
   ]
  },
  {
   "cell_type": "code",
   "execution_count": null,
   "metadata": {
    "colab": {
     "base_uri": "https://localhost:8080/",
     "height": 430
    },
    "id": "x2F8nTDncmf1",
    "outputId": "b73a6fca-38a5-4d1c-c4de-2a343efcfb89"
   },
   "outputs": [
    {
     "data": {
      "image/png": "[encoded data removed]",
      "text/plain": [
       "<Figure size 640x480 with 1 Axes>"
      ]
     },
     "metadata": {},
     "output_type": "display_data"
    }
   ],
   "source": [
    "losses = history.history['loss']\n",
    "val_losses = history.history['val_loss']\n",
    "\n",
    "plt.plot(losses, label='Train loss')\n",
    "plt.plot(val_losses, label='Validation loss')\n",
    "plt.legend()\n",
    "plt.show()"
   ]
  },
  {
   "cell_type": "code",
   "execution_count": null,
   "metadata": {
    "colab": {
     "base_uri": "https://localhost:8080/",
     "height": 430
    },
    "id": "zjoc18enhLab",
    "outputId": "38730ee6-0d53-438f-c063-16922b9bf8cc"
   },
   "outputs": [
    {
     "data": {
      "image/png": "[encoded data removed]",
      "text/plain": [
       "<Figure size 640x480 with 1 Axes>"
      ]
     },
     "metadata": {},
     "output_type": "display_data"
    }
   ],
   "source": [
    "maes = history.history['mae']\n",
    "val_maes = history.history['val_mae']\n",
    "\n",
    "plt.plot(maes, label='Train MAE')\n",
    "plt.plot(val_maes, label='Validation MAE')\n",
    "plt.legend()\n",
    "plt.show()"
   ]
  },
  {
   "cell_type": "code",
   "execution_count": null,
   "metadata": {
    "id": "PV2LeJIvgJYC"
   },
   "outputs": [],
   "source": [
    "test_data -= mean\n",
    "test_data /= std"
   ]
  },
  {
   "cell_type": "code",
   "execution_count": null,
   "metadata": {
    "colab": {
     "base_uri": "https://localhost:8080/"
    },
    "id": "voIxDjlzftXr",
    "outputId": "65ffb7d3-18eb-4f5f-fa63-74a0204309bd"
   },
   "outputs": [
    {
     "name": "stdout",
     "output_type": "stream",
     "text": [
      "4/4 [==============================] - 0s 3ms/step - loss: 21.1855 - mae: 3.1357\n"
     ]
    },
    {
     "data": {
      "text/plain": [
       "[21.185522079467773, 3.1357481479644775]"
      ]
     },
     "execution_count": 38,
     "metadata": {},
     "output_type": "execute_result"
    }
   ],
   "source": [
    "model.evaluate(test_data, test_labels)"
   ]
  }
 ],
 "metadata": {
  "colab": {
   "provenance": []
  },
  "kernelspec": {
   "display_name": "Python 3 (ipykernel)",
   "language": "python",
   "name": "python3"
  },
  "language_info": {
   "codemirror_mode": {
    "name": "ipython",
    "version": 3
   },
   "file_extension": ".py",
   "mimetype": "text/x-python",
   "name": "python",
   "nbconvert_exporter": "python",
   "pygments_lexer": "ipython3",
   "version": "3.11.5"
  }
 },
 "nbformat": 4,
 "nbformat_minor": 4
}
