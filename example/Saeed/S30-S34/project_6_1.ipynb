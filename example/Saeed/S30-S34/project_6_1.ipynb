{
  "nbformat": 4,
  "nbformat_minor": 0,
  "metadata": {
    "colab": {
      "provenance": []
    },
    "kernelspec": {
      "name": "python3",
      "display_name": "Python 3"
    },
    "language_info": {
      "name": "python"
    }
  },
  "cells": [
    {
      "cell_type": "markdown",
      "source": [
        "# NLP - Sarcasm Detection\n",
        "MLP Model + **Embedding** Layer"
      ],
      "metadata": {
        "id": "HRS1mqKEDWvL"
      }
    },
    {
      "cell_type": "code",
      "source": [
        "import pandas as pd\n",
        "import numpy as np\n",
        "import matplotlib.pyplot as plt\n",
        "from tensorflow.keras.layers import TextVectorization\n",
        "from tensorflow.keras import Sequential\n",
        "from tensorflow.keras import layers\n",
        "from tensorflow import keras\n",
        "import nltk\n",
        "from nltk.corpus import stopwords\n",
        "\n",
        "nltk.download('stopwords')"
      ],
      "metadata": {
        "colab": {
          "base_uri": "https://localhost:8080/"
        },
        "id": "71SkUX8YgglR",
        "outputId": "8fd187c7-286c-4aa1-e334-0bd510800c1f"
      },
      "execution_count": null,
      "outputs": [
        {
          "output_type": "stream",
          "name": "stderr",
          "text": [
            "[nltk_data] Downloading package stopwords to /root/nltk_data...\n",
            "[nltk_data]   Package stopwords is already up-to-date!\n"
          ]
        },
        {
          "output_type": "execute_result",
          "data": {
            "text/plain": [
              "True"
            ]
          },
          "metadata": {},
          "execution_count": 41
        }
      ]
    },
    {
      "cell_type": "markdown",
      "source": [
        "## 1- Load Data"
      ],
      "metadata": {
        "id": "KdjP3_CVh7rx"
      }
    },
    {
      "cell_type": "code",
      "execution_count": null,
      "metadata": {
        "id": "p-uytutAt6fl",
        "colab": {
          "base_uri": "https://localhost:8080/"
        },
        "outputId": "699a6a93-6599-4564-b815-12e623140abb"
      },
      "outputs": [
        {
          "output_type": "stream",
          "name": "stdout",
          "text": [
            "--2023-10-29 12:56:24--  https://storage.googleapis.com/learning-datasets/sarcasm.json\n",
            "Resolving storage.googleapis.com (storage.googleapis.com)... 172.217.12.27, 172.217.0.91, 2607:f8b0:4025:815::201b, ...\n",
            "Connecting to storage.googleapis.com (storage.googleapis.com)|172.217.12.27|:443... connected.\n",
            "HTTP request sent, awaiting response... 200 OK\n",
            "Length: 5643545 (5.4M) [application/json]\n",
            "Saving to: ‘sarcasm.json’\n",
            "\n",
            "\rsarcasm.json          0%[                    ]       0  --.-KB/s               \rsarcasm.json        100%[===================>]   5.38M  --.-KB/s    in 0.06s   \n",
            "\n",
            "2023-10-29 12:56:24 (83.2 MB/s) - ‘sarcasm.json’ saved [5643545/5643545]\n",
            "\n"
          ]
        }
      ],
      "source": [
        "!wget --no-check-certificate https://storage.googleapis.com/learning-datasets/sarcasm.json"
      ]
    },
    {
      "cell_type": "code",
      "source": [
        "df = pd.read_json('sarcasm.json')"
      ],
      "metadata": {
        "id": "0R1s_Y3MgjAl"
      },
      "execution_count": null,
      "outputs": []
    },
    {
      "cell_type": "code",
      "source": [
        "df.head()"
      ],
      "metadata": {
        "colab": {
          "base_uri": "https://localhost:8080/",
          "height": 206
        },
        "id": "irKiAX7kgn1S",
        "outputId": "785697f2-c70a-48bc-c31b-117075ba2480"
      },
      "execution_count": null,
      "outputs": [
        {
          "output_type": "execute_result",
          "data": {
            "text/plain": [
              "                                        article_link  \\\n",
              "0  https://www.huffingtonpost.com/entry/versace-b...   \n",
              "1  https://www.huffingtonpost.com/entry/roseanne-...   \n",
              "2  https://local.theonion.com/mom-starting-to-fea...   \n",
              "3  https://politics.theonion.com/boehner-just-wan...   \n",
              "4  https://www.huffingtonpost.com/entry/jk-rowlin...   \n",
              "\n",
              "                                            headline  is_sarcastic  \n",
              "0  former versace store clerk sues over secret 'b...             0  \n",
              "1  the 'roseanne' revival catches up to our thorn...             0  \n",
              "2  mom starting to fear son's web series closest ...             1  \n",
              "3  boehner just wants wife to listen, not come up...             1  \n",
              "4  j.k. rowling wishes snape happy birthday in th...             0  "
            ],
            "text/html": [
              "\n",
              "  <div id=\"df-133d4060-fc68-46af-9639-428d9df7e948\" class=\"colab-df-container\">\n",
              "    <div>\n",
              "<style scoped>\n",
              "    .dataframe tbody tr th:only-of-type {\n",
              "        vertical-align: middle;\n",
              "    }\n",
              "\n",
              "    .dataframe tbody tr th {\n",
              "        vertical-align: top;\n",
              "    }\n",
              "\n",
              "    .dataframe thead th {\n",
              "        text-align: right;\n",
              "    }\n",
              "</style>\n",
              "<table border=\"1\" class=\"dataframe\">\n",
              "  <thead>\n",
              "    <tr style=\"text-align: right;\">\n",
              "      <th></th>\n",
              "      <th>article_link</th>\n",
              "      <th>headline</th>\n",
              "      <th>is_sarcastic</th>\n",
              "    </tr>\n",
              "  </thead>\n",
              "  <tbody>\n",
              "    <tr>\n",
              "      <th>0</th>\n",
              "      <td>https://www.huffingtonpost.com/entry/versace-b...</td>\n",
              "      <td>former versace store clerk sues over secret 'b...</td>\n",
              "      <td>0</td>\n",
              "    </tr>\n",
              "    <tr>\n",
              "      <th>1</th>\n",
              "      <td>https://www.huffingtonpost.com/entry/roseanne-...</td>\n",
              "      <td>the 'roseanne' revival catches up to our thorn...</td>\n",
              "      <td>0</td>\n",
              "    </tr>\n",
              "    <tr>\n",
              "      <th>2</th>\n",
              "      <td>https://local.theonion.com/mom-starting-to-fea...</td>\n",
              "      <td>mom starting to fear son's web series closest ...</td>\n",
              "      <td>1</td>\n",
              "    </tr>\n",
              "    <tr>\n",
              "      <th>3</th>\n",
              "      <td>https://politics.theonion.com/boehner-just-wan...</td>\n",
              "      <td>boehner just wants wife to listen, not come up...</td>\n",
              "      <td>1</td>\n",
              "    </tr>\n",
              "    <tr>\n",
              "      <th>4</th>\n",
              "      <td>https://www.huffingtonpost.com/entry/jk-rowlin...</td>\n",
              "      <td>j.k. rowling wishes snape happy birthday in th...</td>\n",
              "      <td>0</td>\n",
              "    </tr>\n",
              "  </tbody>\n",
              "</table>\n",
              "</div>\n",
              "    <div class=\"colab-df-buttons\">\n",
              "\n",
              "  <div class=\"colab-df-container\">\n",
              "    <button class=\"colab-df-convert\" onclick=\"convertToInteractive('df-133d4060-fc68-46af-9639-428d9df7e948')\"\n",
              "            title=\"Convert this dataframe to an interactive table.\"\n",
              "            style=\"display:none;\">\n",
              "\n",
              "  <svg xmlns=\"http://www.w3.org/2000/svg\" height=\"24px\" viewBox=\"0 -960 960 960\">\n",
              "    <path d=\"M120-120v-720h720v720H120Zm60-500h600v-160H180v160Zm220 220h160v-160H400v160Zm0 220h160v-160H400v160ZM180-400h160v-160H180v160Zm440 0h160v-160H620v160ZM180-180h160v-160H180v160Zm440 0h160v-160H620v160Z\"/>\n",
              "  </svg>\n",
              "    </button>\n",
              "\n",
              "  <style>\n",
              "    .colab-df-container {\n",
              "      display:flex;\n",
              "      gap: 12px;\n",
              "    }\n",
              "\n",
              "    .colab-df-convert {\n",
              "      background-color: #E8F0FE;\n",
              "      border: none;\n",
              "      border-radius: 50%;\n",
              "      cursor: pointer;\n",
              "      display: none;\n",
              "      fill: #1967D2;\n",
              "      height: 32px;\n",
              "      padding: 0 0 0 0;\n",
              "      width: 32px;\n",
              "    }\n",
              "\n",
              "    .colab-df-convert:hover {\n",
              "      background-color: #E2EBFA;\n",
              "      box-shadow: 0px 1px 2px rgba(60, 64, 67, 0.3), 0px 1px 3px 1px rgba(60, 64, 67, 0.15);\n",
              "      fill: #174EA6;\n",
              "    }\n",
              "\n",
              "    .colab-df-buttons div {\n",
              "      margin-bottom: 4px;\n",
              "    }\n",
              "\n",
              "    [theme=dark] .colab-df-convert {\n",
              "      background-color: #3B4455;\n",
              "      fill: #D2E3FC;\n",
              "    }\n",
              "\n",
              "    [theme=dark] .colab-df-convert:hover {\n",
              "      background-color: #434B5C;\n",
              "      box-shadow: 0px 1px 3px 1px rgba(0, 0, 0, 0.15);\n",
              "      filter: drop-shadow(0px 1px 2px rgba(0, 0, 0, 0.3));\n",
              "      fill: #FFFFFF;\n",
              "    }\n",
              "  </style>\n",
              "\n",
              "    <script>\n",
              "      const buttonEl =\n",
              "        document.querySelector('#df-133d4060-fc68-46af-9639-428d9df7e948 button.colab-df-convert');\n",
              "      buttonEl.style.display =\n",
              "        google.colab.kernel.accessAllowed ? 'block' : 'none';\n",
              "\n",
              "      async function convertToInteractive(key) {\n",
              "        const element = document.querySelector('#df-133d4060-fc68-46af-9639-428d9df7e948');\n",
              "        const dataTable =\n",
              "          await google.colab.kernel.invokeFunction('convertToInteractive',\n",
              "                                                    [key], {});\n",
              "        if (!dataTable) return;\n",
              "\n",
              "        const docLinkHtml = 'Like what you see? Visit the ' +\n",
              "          '<a target=\"_blank\" href=https://colab.research.google.com/notebooks/data_table.ipynb>data table notebook</a>'\n",
              "          + ' to learn more about interactive tables.';\n",
              "        element.innerHTML = '';\n",
              "        dataTable['output_type'] = 'display_data';\n",
              "        await google.colab.output.renderOutput(dataTable, element);\n",
              "        const docLink = document.createElement('div');\n",
              "        docLink.innerHTML = docLinkHtml;\n",
              "        element.appendChild(docLink);\n",
              "      }\n",
              "    </script>\n",
              "  </div>\n",
              "\n",
              "\n",
              "<div id=\"df-d303f39c-315f-497d-997a-9fba8a24a8d4\">\n",
              "  <button class=\"colab-df-quickchart\" onclick=\"quickchart('df-d303f39c-315f-497d-997a-9fba8a24a8d4')\"\n",
              "            title=\"Suggest charts.\"\n",
              "            style=\"display:none;\">\n",
              "\n",
              "<svg xmlns=\"http://www.w3.org/2000/svg\" height=\"24px\"viewBox=\"0 0 24 24\"\n",
              "     width=\"24px\">\n",
              "    <g>\n",
              "        <path d=\"M19 3H5c-1.1 0-2 .9-2 2v14c0 1.1.9 2 2 2h14c1.1 0 2-.9 2-2V5c0-1.1-.9-2-2-2zM9 17H7v-7h2v7zm4 0h-2V7h2v10zm4 0h-2v-4h2v4z\"/>\n",
              "    </g>\n",
              "</svg>\n",
              "  </button>\n",
              "\n",
              "<style>\n",
              "  .colab-df-quickchart {\n",
              "      --bg-color: #E8F0FE;\n",
              "      --fill-color: #1967D2;\n",
              "      --hover-bg-color: #E2EBFA;\n",
              "      --hover-fill-color: #174EA6;\n",
              "      --disabled-fill-color: #AAA;\n",
              "      --disabled-bg-color: #DDD;\n",
              "  }\n",
              "\n",
              "  [theme=dark] .colab-df-quickchart {\n",
              "      --bg-color: #3B4455;\n",
              "      --fill-color: #D2E3FC;\n",
              "      --hover-bg-color: #434B5C;\n",
              "      --hover-fill-color: #FFFFFF;\n",
              "      --disabled-bg-color: #3B4455;\n",
              "      --disabled-fill-color: #666;\n",
              "  }\n",
              "\n",
              "  .colab-df-quickchart {\n",
              "    background-color: var(--bg-color);\n",
              "    border: none;\n",
              "    border-radius: 50%;\n",
              "    cursor: pointer;\n",
              "    display: none;\n",
              "    fill: var(--fill-color);\n",
              "    height: 32px;\n",
              "    padding: 0;\n",
              "    width: 32px;\n",
              "  }\n",
              "\n",
              "  .colab-df-quickchart:hover {\n",
              "    background-color: var(--hover-bg-color);\n",
              "    box-shadow: 0 1px 2px rgba(60, 64, 67, 0.3), 0 1px 3px 1px rgba(60, 64, 67, 0.15);\n",
              "    fill: var(--button-hover-fill-color);\n",
              "  }\n",
              "\n",
              "  .colab-df-quickchart-complete:disabled,\n",
              "  .colab-df-quickchart-complete:disabled:hover {\n",
              "    background-color: var(--disabled-bg-color);\n",
              "    fill: var(--disabled-fill-color);\n",
              "    box-shadow: none;\n",
              "  }\n",
              "\n",
              "  .colab-df-spinner {\n",
              "    border: 2px solid var(--fill-color);\n",
              "    border-color: transparent;\n",
              "    border-bottom-color: var(--fill-color);\n",
              "    animation:\n",
              "      spin 1s steps(1) infinite;\n",
              "  }\n",
              "\n",
              "  @keyframes spin {\n",
              "    0% {\n",
              "      border-color: transparent;\n",
              "      border-bottom-color: var(--fill-color);\n",
              "      border-left-color: var(--fill-color);\n",
              "    }\n",
              "    20% {\n",
              "      border-color: transparent;\n",
              "      border-left-color: var(--fill-color);\n",
              "      border-top-color: var(--fill-color);\n",
              "    }\n",
              "    30% {\n",
              "      border-color: transparent;\n",
              "      border-left-color: var(--fill-color);\n",
              "      border-top-color: var(--fill-color);\n",
              "      border-right-color: var(--fill-color);\n",
              "    }\n",
              "    40% {\n",
              "      border-color: transparent;\n",
              "      border-right-color: var(--fill-color);\n",
              "      border-top-color: var(--fill-color);\n",
              "    }\n",
              "    60% {\n",
              "      border-color: transparent;\n",
              "      border-right-color: var(--fill-color);\n",
              "    }\n",
              "    80% {\n",
              "      border-color: transparent;\n",
              "      border-right-color: var(--fill-color);\n",
              "      border-bottom-color: var(--fill-color);\n",
              "    }\n",
              "    90% {\n",
              "      border-color: transparent;\n",
              "      border-bottom-color: var(--fill-color);\n",
              "    }\n",
              "  }\n",
              "</style>\n",
              "\n",
              "  <script>\n",
              "    async function quickchart(key) {\n",
              "      const quickchartButtonEl =\n",
              "        document.querySelector('#' + key + ' button');\n",
              "      quickchartButtonEl.disabled = true;  // To prevent multiple clicks.\n",
              "      quickchartButtonEl.classList.add('colab-df-spinner');\n",
              "      try {\n",
              "        const charts = await google.colab.kernel.invokeFunction(\n",
              "            'suggestCharts', [key], {});\n",
              "      } catch (error) {\n",
              "        console.error('Error during call to suggestCharts:', error);\n",
              "      }\n",
              "      quickchartButtonEl.classList.remove('colab-df-spinner');\n",
              "      quickchartButtonEl.classList.add('colab-df-quickchart-complete');\n",
              "    }\n",
              "    (() => {\n",
              "      let quickchartButtonEl =\n",
              "        document.querySelector('#df-d303f39c-315f-497d-997a-9fba8a24a8d4 button');\n",
              "      quickchartButtonEl.style.display =\n",
              "        google.colab.kernel.accessAllowed ? 'block' : 'none';\n",
              "    })();\n",
              "  </script>\n",
              "</div>\n",
              "    </div>\n",
              "  </div>\n"
            ]
          },
          "metadata": {},
          "execution_count": 4
        }
      ]
    },
    {
      "cell_type": "code",
      "source": [
        "df.shape"
      ],
      "metadata": {
        "colab": {
          "base_uri": "https://localhost:8080/"
        },
        "id": "NpL4Xoc5guRy",
        "outputId": "4f0438be-1208-4c7e-de41-6394bd13d382"
      },
      "execution_count": null,
      "outputs": [
        {
          "output_type": "execute_result",
          "data": {
            "text/plain": [
              "(26709, 3)"
            ]
          },
          "metadata": {},
          "execution_count": 5
        }
      ]
    },
    {
      "cell_type": "code",
      "source": [
        "sentences = df['headline'].to_list()\n",
        "labels = df['is_sarcastic'].to_list()"
      ],
      "metadata": {
        "id": "9bd8ckkXha-y"
      },
      "execution_count": null,
      "outputs": []
    },
    {
      "cell_type": "markdown",
      "source": [
        "## 2- Pre-processing"
      ],
      "metadata": {
        "id": "o5xSCgxjh-KJ"
      }
    },
    {
      "cell_type": "code",
      "source": [
        "sw = stopwords.words('english')"
      ],
      "metadata": {
        "id": "SstRwuSfx6kM"
      },
      "execution_count": null,
      "outputs": []
    },
    {
      "cell_type": "code",
      "source": [
        "print(sw)"
      ],
      "metadata": {
        "colab": {
          "base_uri": "https://localhost:8080/"
        },
        "id": "jAk45ZBTy0Ey",
        "outputId": "f26ef407-6a91-4e06-b0f9-91a194a994ce"
      },
      "execution_count": null,
      "outputs": [
        {
          "output_type": "stream",
          "name": "stdout",
          "text": [
            "['i', 'me', 'my', 'myself', 'we', 'our', 'ours', 'ourselves', 'you', \"you're\", \"you've\", \"you'll\", \"you'd\", 'your', 'yours', 'yourself', 'yourselves', 'he', 'him', 'his', 'himself', 'she', \"she's\", 'her', 'hers', 'herself', 'it', \"it's\", 'its', 'itself', 'they', 'them', 'their', 'theirs', 'themselves', 'what', 'which', 'who', 'whom', 'this', 'that', \"that'll\", 'these', 'those', 'am', 'is', 'are', 'was', 'were', 'be', 'been', 'being', 'have', 'has', 'had', 'having', 'do', 'does', 'did', 'doing', 'a', 'an', 'the', 'and', 'but', 'if', 'or', 'because', 'as', 'until', 'while', 'of', 'at', 'by', 'for', 'with', 'about', 'against', 'between', 'into', 'through', 'during', 'before', 'after', 'above', 'below', 'to', 'from', 'up', 'down', 'in', 'out', 'on', 'off', 'over', 'under', 'again', 'further', 'then', 'once', 'here', 'there', 'when', 'where', 'why', 'how', 'all', 'any', 'both', 'each', 'few', 'more', 'most', 'other', 'some', 'such', 'no', 'nor', 'not', 'only', 'own', 'same', 'so', 'than', 'too', 'very', 's', 't', 'can', 'will', 'just', 'don', \"don't\", 'should', \"should've\", 'now', 'd', 'll', 'm', 'o', 're', 've', 'y', 'ain', 'aren', \"aren't\", 'couldn', \"couldn't\", 'didn', \"didn't\", 'doesn', \"doesn't\", 'hadn', \"hadn't\", 'hasn', \"hasn't\", 'haven', \"haven't\", 'isn', \"isn't\", 'ma', 'mightn', \"mightn't\", 'mustn', \"mustn't\", 'needn', \"needn't\", 'shan', \"shan't\", 'shouldn', \"shouldn't\", 'wasn', \"wasn't\", 'weren', \"weren't\", 'won', \"won't\", 'wouldn', \"wouldn't\"]\n"
          ]
        }
      ]
    },
    {
      "cell_type": "code",
      "source": [
        "for s in sentences[:2]:\n",
        "  print(s)"
      ],
      "metadata": {
        "colab": {
          "base_uri": "https://localhost:8080/"
        },
        "id": "LOvynYjLy64C",
        "outputId": "d0ad1a95-e87a-4913-9c60-1c5c9dcc1231"
      },
      "execution_count": null,
      "outputs": [
        {
          "output_type": "stream",
          "name": "stdout",
          "text": [
            "former versace store clerk sues over secret 'black code' for minority shoppers\n",
            "the 'roseanne' revival catches up to our thorny political mood, for better and worse\n"
          ]
        }
      ]
    },
    {
      "cell_type": "code",
      "source": [
        "for i in range(len(sentences)):\n",
        "  words = sentences[i].split()\n",
        "  words_new = [w for w in words if w not in sw]\n",
        "  sentences[i] = ' '.join(words_new)"
      ],
      "metadata": {
        "id": "efo3HDADzD0r"
      },
      "execution_count": null,
      "outputs": []
    },
    {
      "cell_type": "code",
      "source": [
        "for s in sentences[:2]:\n",
        "  print(s)"
      ],
      "metadata": {
        "colab": {
          "base_uri": "https://localhost:8080/"
        },
        "id": "mwmwC4yozn2M",
        "outputId": "367ddcb6-6694-4eb1-a834-114113de4bfd"
      },
      "execution_count": null,
      "outputs": [
        {
          "output_type": "stream",
          "name": "stdout",
          "text": [
            "former versace store clerk sues secret 'black code' minority shoppers\n",
            "'roseanne' revival catches thorny political mood, better worse\n"
          ]
        }
      ]
    },
    {
      "cell_type": "code",
      "source": [
        "training_size = 23000\n",
        "\n",
        "train_sentences = sentences[:training_size]\n",
        "validation_sentences = sentences[training_size:]\n",
        "\n",
        "train_labels = labels[:training_size]\n",
        "validation_labels = labels[training_size:]\n",
        "\n",
        "train_labels = np.array(train_labels)\n",
        "validation_labels = np.array(validation_labels)"
      ],
      "metadata": {
        "id": "BxnHpg_3iBD7"
      },
      "execution_count": null,
      "outputs": []
    },
    {
      "cell_type": "code",
      "source": [
        "vocab_size = 5000\n",
        "embedding_dim = 16"
      ],
      "metadata": {
        "id": "aZzVLugRm5Sx"
      },
      "execution_count": null,
      "outputs": []
    },
    {
      "cell_type": "code",
      "source": [
        "text_vectorization = TextVectorization(max_tokens=vocab_size, output_sequence_length=25)\n",
        "text_vectorization.adapt(train_sentences)\n",
        "print(len(text_vectorization.get_vocabulary()))"
      ],
      "metadata": {
        "colab": {
          "base_uri": "https://localhost:8080/"
        },
        "id": "zuSEuGOxm0xM",
        "outputId": "f8a3bdbd-78f9-4477-a9d4-4a16afca623d"
      },
      "execution_count": null,
      "outputs": [
        {
          "output_type": "stream",
          "name": "stdout",
          "text": [
            "5000\n"
          ]
        }
      ]
    },
    {
      "cell_type": "code",
      "source": [
        "train_sequences = text_vectorization(train_sentences)\n",
        "validation_sequences = text_vectorization(validation_sentences)\n",
        "print(type(train_sequences))\n",
        "print(train_sequences.shape)\n",
        "print(validation_sequences.shape)"
      ],
      "metadata": {
        "colab": {
          "base_uri": "https://localhost:8080/"
        },
        "id": "_Pluw9UNnKxh",
        "outputId": "71479d40-3553-4121-ae41-73fa4b883595"
      },
      "execution_count": null,
      "outputs": [
        {
          "output_type": "stream",
          "name": "stdout",
          "text": [
            "<class 'tensorflow.python.framework.ops.EagerTensor'>\n",
            "(23000, 25)\n",
            "(3709, 25)\n"
          ]
        }
      ]
    },
    {
      "cell_type": "markdown",
      "source": [
        "## 3- Model Design"
      ],
      "metadata": {
        "id": "fLGOdUgzoXBU"
      }
    },
    {
      "cell_type": "code",
      "source": [
        "model1 = Sequential([\n",
        "    layers.Embedding(vocab_size, embedding_dim),\n",
        "    layers.GlobalAveragePooling1D(),\n",
        "    layers.Dense(25, activation='relu'),\n",
        "    layers.Dense(1, activation='sigmoid')\n",
        "])\n",
        "\n",
        "model1.summary()"
      ],
      "metadata": {
        "colab": {
          "base_uri": "https://localhost:8080/"
        },
        "id": "eA9n1wOZob0S",
        "outputId": "c2d75e6b-86c3-4b50-e32d-9266ee85879b"
      },
      "execution_count": null,
      "outputs": [
        {
          "output_type": "stream",
          "name": "stdout",
          "text": [
            "Model: \"sequential_2\"\n",
            "_________________________________________________________________\n",
            " Layer (type)                Output Shape              Param #   \n",
            "=================================================================\n",
            " embedding_2 (Embedding)     (None, None, 16)          80000     \n",
            "                                                                 \n",
            " global_average_pooling1d_2  (None, 16)                0         \n",
            "  (GlobalAveragePooling1D)                                       \n",
            "                                                                 \n",
            " dense_4 (Dense)             (None, 25)                425       \n",
            "                                                                 \n",
            " dense_5 (Dense)             (None, 1)                 26        \n",
            "                                                                 \n",
            "=================================================================\n",
            "Total params: 80451 (314.26 KB)\n",
            "Trainable params: 80451 (314.26 KB)\n",
            "Non-trainable params: 0 (0.00 Byte)\n",
            "_________________________________________________________________\n"
          ]
        }
      ]
    },
    {
      "cell_type": "markdown",
      "source": [
        "## 4- Training"
      ],
      "metadata": {
        "id": "Ga1pt53Asy2L"
      }
    },
    {
      "cell_type": "code",
      "source": [
        "adam = keras.optimizers.Adam(learning_rate=0.0001)\n",
        "model1.compile(loss='binary_crossentropy', optimizer=adam, metrics=['accuracy'])"
      ],
      "metadata": {
        "id": "aedUzsBJs2cB"
      },
      "execution_count": null,
      "outputs": []
    },
    {
      "cell_type": "code",
      "source": [
        "history1 = model1.fit(train_sequences, train_labels,\n",
        "                      batch_size=128,\n",
        "                      epochs=50,\n",
        "                      validation_data=(validation_sequences, validation_labels))"
      ],
      "metadata": {
        "colab": {
          "base_uri": "https://localhost:8080/"
        },
        "id": "RqziJsAt1Twq",
        "outputId": "98e16be0-ebda-41cd-d8be-16d7335b67e6"
      },
      "execution_count": null,
      "outputs": [
        {
          "output_type": "stream",
          "name": "stdout",
          "text": [
            "Epoch 1/50\n",
            "180/180 [==============================] - 3s 7ms/step - loss: 0.6910 - accuracy: 0.5482 - val_loss: 0.6881 - val_accuracy: 0.5700\n",
            "Epoch 2/50\n",
            "180/180 [==============================] - 1s 4ms/step - loss: 0.6867 - accuracy: 0.5597 - val_loss: 0.6838 - val_accuracy: 0.5700\n",
            "Epoch 3/50\n",
            "180/180 [==============================] - 1s 4ms/step - loss: 0.6830 - accuracy: 0.5598 - val_loss: 0.6801 - val_accuracy: 0.5700\n",
            "Epoch 4/50\n",
            "180/180 [==============================] - 1s 4ms/step - loss: 0.6790 - accuracy: 0.5598 - val_loss: 0.6757 - val_accuracy: 0.5697\n",
            "Epoch 5/50\n",
            "180/180 [==============================] - 1s 3ms/step - loss: 0.6738 - accuracy: 0.5608 - val_loss: 0.6698 - val_accuracy: 0.5729\n",
            "Epoch 6/50\n",
            "180/180 [==============================] - 1s 3ms/step - loss: 0.6660 - accuracy: 0.5705 - val_loss: 0.6629 - val_accuracy: 0.6012\n",
            "Epoch 7/50\n",
            "180/180 [==============================] - 1s 3ms/step - loss: 0.6571 - accuracy: 0.6028 - val_loss: 0.6547 - val_accuracy: 0.6347\n",
            "Epoch 8/50\n",
            "180/180 [==============================] - 1s 3ms/step - loss: 0.6464 - accuracy: 0.6379 - val_loss: 0.6444 - val_accuracy: 0.6560\n",
            "Epoch 9/50\n",
            "180/180 [==============================] - 1s 3ms/step - loss: 0.6341 - accuracy: 0.6713 - val_loss: 0.6340 - val_accuracy: 0.6864\n",
            "Epoch 10/50\n",
            "180/180 [==============================] - 1s 3ms/step - loss: 0.6208 - accuracy: 0.6974 - val_loss: 0.6220 - val_accuracy: 0.6959\n",
            "Epoch 11/50\n",
            "180/180 [==============================] - 1s 3ms/step - loss: 0.6062 - accuracy: 0.7148 - val_loss: 0.6099 - val_accuracy: 0.7121\n",
            "Epoch 12/50\n",
            "180/180 [==============================] - 1s 3ms/step - loss: 0.5906 - accuracy: 0.7336 - val_loss: 0.5961 - val_accuracy: 0.7166\n",
            "Epoch 13/50\n",
            "180/180 [==============================] - 1s 4ms/step - loss: 0.5743 - accuracy: 0.7460 - val_loss: 0.5833 - val_accuracy: 0.7250\n",
            "Epoch 14/50\n",
            "180/180 [==============================] - 1s 3ms/step - loss: 0.5580 - accuracy: 0.7597 - val_loss: 0.5693 - val_accuracy: 0.7301\n",
            "Epoch 15/50\n",
            "180/180 [==============================] - 1s 5ms/step - loss: 0.5418 - accuracy: 0.7687 - val_loss: 0.5569 - val_accuracy: 0.7425\n",
            "Epoch 16/50\n",
            "180/180 [==============================] - 1s 6ms/step - loss: 0.5261 - accuracy: 0.7789 - val_loss: 0.5447 - val_accuracy: 0.7482\n",
            "Epoch 17/50\n",
            "180/180 [==============================] - 1s 6ms/step - loss: 0.5108 - accuracy: 0.7870 - val_loss: 0.5327 - val_accuracy: 0.7522\n",
            "Epoch 18/50\n",
            "180/180 [==============================] - 1s 4ms/step - loss: 0.4961 - accuracy: 0.7953 - val_loss: 0.5215 - val_accuracy: 0.7600\n",
            "Epoch 19/50\n",
            "180/180 [==============================] - 1s 3ms/step - loss: 0.4822 - accuracy: 0.8024 - val_loss: 0.5118 - val_accuracy: 0.7595\n",
            "Epoch 20/50\n",
            "180/180 [==============================] - 1s 4ms/step - loss: 0.4691 - accuracy: 0.8090 - val_loss: 0.5020 - val_accuracy: 0.7633\n",
            "Epoch 21/50\n",
            "180/180 [==============================] - 1s 4ms/step - loss: 0.4569 - accuracy: 0.8123 - val_loss: 0.4928 - val_accuracy: 0.7706\n",
            "Epoch 22/50\n",
            "180/180 [==============================] - 1s 3ms/step - loss: 0.4457 - accuracy: 0.8176 - val_loss: 0.4861 - val_accuracy: 0.7751\n",
            "Epoch 23/50\n",
            "180/180 [==============================] - 1s 4ms/step - loss: 0.4351 - accuracy: 0.8209 - val_loss: 0.4799 - val_accuracy: 0.7757\n",
            "Epoch 24/50\n",
            "180/180 [==============================] - 1s 3ms/step - loss: 0.4255 - accuracy: 0.8240 - val_loss: 0.4728 - val_accuracy: 0.7786\n",
            "Epoch 25/50\n",
            "180/180 [==============================] - 1s 3ms/step - loss: 0.4164 - accuracy: 0.8275 - val_loss: 0.4672 - val_accuracy: 0.7805\n",
            "Epoch 26/50\n",
            "180/180 [==============================] - 1s 3ms/step - loss: 0.4081 - accuracy: 0.8300 - val_loss: 0.4627 - val_accuracy: 0.7822\n",
            "Epoch 27/50\n",
            "180/180 [==============================] - 1s 3ms/step - loss: 0.4003 - accuracy: 0.8331 - val_loss: 0.4581 - val_accuracy: 0.7830\n",
            "Epoch 28/50\n",
            "180/180 [==============================] - 1s 3ms/step - loss: 0.3931 - accuracy: 0.8358 - val_loss: 0.4545 - val_accuracy: 0.7848\n",
            "Epoch 29/50\n",
            "180/180 [==============================] - 1s 4ms/step - loss: 0.3864 - accuracy: 0.8365 - val_loss: 0.4530 - val_accuracy: 0.7811\n",
            "Epoch 30/50\n",
            "180/180 [==============================] - 1s 4ms/step - loss: 0.3801 - accuracy: 0.8400 - val_loss: 0.4500 - val_accuracy: 0.7822\n",
            "Epoch 31/50\n",
            "180/180 [==============================] - 1s 4ms/step - loss: 0.3742 - accuracy: 0.8417 - val_loss: 0.4459 - val_accuracy: 0.7862\n",
            "Epoch 32/50\n",
            "180/180 [==============================] - 1s 3ms/step - loss: 0.3689 - accuracy: 0.8437 - val_loss: 0.4446 - val_accuracy: 0.7830\n",
            "Epoch 33/50\n",
            "180/180 [==============================] - 1s 3ms/step - loss: 0.3636 - accuracy: 0.8447 - val_loss: 0.4425 - val_accuracy: 0.7835\n",
            "Epoch 34/50\n",
            "180/180 [==============================] - 1s 5ms/step - loss: 0.3587 - accuracy: 0.8464 - val_loss: 0.4409 - val_accuracy: 0.7851\n",
            "Epoch 35/50\n",
            "180/180 [==============================] - 1s 5ms/step - loss: 0.3542 - accuracy: 0.8473 - val_loss: 0.4405 - val_accuracy: 0.7819\n",
            "Epoch 36/50\n",
            "180/180 [==============================] - 1s 5ms/step - loss: 0.3499 - accuracy: 0.8498 - val_loss: 0.4386 - val_accuracy: 0.7875\n",
            "Epoch 37/50\n",
            "180/180 [==============================] - 1s 3ms/step - loss: 0.3459 - accuracy: 0.8514 - val_loss: 0.4382 - val_accuracy: 0.7854\n",
            "Epoch 38/50\n",
            "180/180 [==============================] - 1s 3ms/step - loss: 0.3419 - accuracy: 0.8530 - val_loss: 0.4388 - val_accuracy: 0.7846\n",
            "Epoch 39/50\n",
            "180/180 [==============================] - 1s 3ms/step - loss: 0.3384 - accuracy: 0.8552 - val_loss: 0.4379 - val_accuracy: 0.7859\n",
            "Epoch 40/50\n",
            "180/180 [==============================] - 1s 3ms/step - loss: 0.3349 - accuracy: 0.8558 - val_loss: 0.4372 - val_accuracy: 0.7846\n",
            "Epoch 41/50\n",
            "180/180 [==============================] - 1s 3ms/step - loss: 0.3317 - accuracy: 0.8565 - val_loss: 0.4372 - val_accuracy: 0.7859\n",
            "Epoch 42/50\n",
            "180/180 [==============================] - 1s 3ms/step - loss: 0.3285 - accuracy: 0.8582 - val_loss: 0.4388 - val_accuracy: 0.7851\n",
            "Epoch 43/50\n",
            "180/180 [==============================] - 1s 3ms/step - loss: 0.3256 - accuracy: 0.8600 - val_loss: 0.4391 - val_accuracy: 0.7851\n",
            "Epoch 44/50\n",
            "180/180 [==============================] - 1s 4ms/step - loss: 0.3227 - accuracy: 0.8613 - val_loss: 0.4384 - val_accuracy: 0.7875\n",
            "Epoch 45/50\n",
            "180/180 [==============================] - 1s 4ms/step - loss: 0.3201 - accuracy: 0.8622 - val_loss: 0.4385 - val_accuracy: 0.7878\n",
            "Epoch 46/50\n",
            "180/180 [==============================] - 1s 4ms/step - loss: 0.3176 - accuracy: 0.8641 - val_loss: 0.4392 - val_accuracy: 0.7886\n",
            "Epoch 47/50\n",
            "180/180 [==============================] - 1s 3ms/step - loss: 0.3149 - accuracy: 0.8654 - val_loss: 0.4395 - val_accuracy: 0.7881\n",
            "Epoch 48/50\n",
            "180/180 [==============================] - 1s 3ms/step - loss: 0.3126 - accuracy: 0.8649 - val_loss: 0.4400 - val_accuracy: 0.7886\n",
            "Epoch 49/50\n",
            "180/180 [==============================] - 1s 3ms/step - loss: 0.3104 - accuracy: 0.8664 - val_loss: 0.4416 - val_accuracy: 0.7881\n",
            "Epoch 50/50\n",
            "180/180 [==============================] - 1s 3ms/step - loss: 0.3084 - accuracy: 0.8674 - val_loss: 0.4416 - val_accuracy: 0.7873\n"
          ]
        }
      ]
    },
    {
      "cell_type": "code",
      "source": [
        "def plot_graphs(history, string):\n",
        "  plt.plot(history.history[string])\n",
        "  plt.plot(history.history['val_'+string])\n",
        "  plt.xlabel(\"Epochs\")\n",
        "  plt.ylabel(string)\n",
        "  plt.legend([string, 'val_'+string])\n",
        "  plt.show()\n",
        "\n",
        "plot_graphs(history1, \"accuracy\")\n",
        "plot_graphs(history1, \"loss\")"
      ],
      "metadata": {
        "colab": {
          "base_uri": "https://localhost:8080/",
          "height": 881
        },
        "id": "346O3fWV1w7C",
        "outputId": "cd63f226-4111-4368-df3f-36f9d1a3b6e6"
      },
      "execution_count": null,
      "outputs": [
        {
          "output_type": "display_data",
          "data": {
            "text/plain": [
              "<Figure size 640x480 with 1 Axes>"
            ],
            "image/png": "[encoded data removed]"
          },
          "metadata": {}
        },
        {
          "output_type": "display_data",
          "data": {
            "text/plain": [
              "<Figure size 640x480 with 1 Axes>"
            ],
            "image/png": "[encoded data removed]"
          },
          "metadata": {}
        }
      ]
    },
    {
      "cell_type": "code",
      "source": [
        "test_sentences = [\"granny starting to fear spiders in the garden might be real\",\n",
        "                  \"game of thrones season finale showing this sunday night\",\n",
        "                  \"TensorFlow book will be a best seller\"]\n",
        "# Remove stop-words\n",
        "test_sequences = text_vectorization(test_sentences)\n",
        "print(test_sequences)\n"
      ],
      "metadata": {
        "colab": {
          "base_uri": "https://localhost:8080/"
        },
        "id": "r_2oCywI2xdK",
        "outputId": "66467900-3d8f-47b6-894a-6f68be79fdb9"
      },
      "execution_count": null,
      "outputs": [
        {
          "output_type": "stream",
          "name": "stdout",
          "text": [
            "tf.Tensor(\n",
            "[[   1  765 2371  722    1 2153   57 2486  289 4009  102    0    0    0\n",
            "     0    0    0    0    0    0    0    0    0    0    0]\n",
            " [ 119 2657 1124  147 2496 3105 1086 1446  156    0    0    0    0    0\n",
            "     0    0    0    0    0    0    0    0    0    0    0]\n",
            " [   1  221    1 4009  942   39    1    0    0    0    0    0    0    0\n",
            "     0    0    0    0    0    0    0    0    0    0    0]], shape=(3, 25), dtype=int64)\n"
          ]
        }
      ]
    },
    {
      "cell_type": "code",
      "source": [
        "preds = model1.predict(test_sequences)\n",
        "print(preds)"
      ],
      "metadata": {
        "colab": {
          "base_uri": "https://localhost:8080/"
        },
        "id": "Nehanfuq3dMj",
        "outputId": "5cf3d462-ddfb-44cb-c1ca-bb6d9524ae9e"
      },
      "execution_count": null,
      "outputs": [
        {
          "output_type": "stream",
          "name": "stdout",
          "text": [
            "1/1 [==============================] - 0s 92ms/step\n",
            "[[0.08043804]\n",
            " [0.1521633 ]\n",
            " [0.03328642]]\n"
          ]
        }
      ]
    }
  ]
}