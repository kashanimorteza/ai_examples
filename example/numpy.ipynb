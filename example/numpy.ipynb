{
 "cells": [
  {
   "cell_type": "markdown",
   "id": "887f1585-c139-47f6-b62a-5aa44e79d673",
   "metadata": {},
   "source": [
    "# Example : Numpy"
   ]
  },
  {
   "cell_type": "markdown",
   "id": "d2566059-88c1-4cc7-8dab-a88e059bd81c",
   "metadata": {},
   "source": [
    "## ndarray"
   ]
  },
  {
   "cell_type": "code",
   "execution_count": 3,
   "id": "bc1454f8-7eac-4844-aafd-15212c03da32",
   "metadata": {},
   "outputs": [],
   "source": [
    "import numpy as np"
   ]
  },
  {
   "cell_type": "code",
   "execution_count": 20,
   "id": "579014bd-7374-4945-a6ea-9896826c1eb4",
   "metadata": {
    "scrolled": true
   },
   "outputs": [
    {
     "name": "stdout",
     "output_type": "stream",
     "text": [
      "ndim: 1\n",
      "shape: (5,)\n",
      "dtype: int64\n"
     ]
    }
   ],
   "source": [
    "a = np.array(\n",
    "    [\n",
    "        1, 2, 3, 4, 5\n",
    "    ]\n",
    ")\n",
    "print(\"ndim:\", a.ndim)      # number of dimensions\n",
    "print(\"shape:\", a.shape)    # size of each dimension\n",
    "print(\"dtype:\", a.dtype)    # data type"
   ]
  },
  {
   "cell_type": "code",
   "execution_count": 25,
   "id": "cb32ee8e-1d57-4c00-ac6b-5fae1200d0af",
   "metadata": {},
   "outputs": [
    {
     "name": "stdout",
     "output_type": "stream",
     "text": [
      "ndim: 2\n",
      "shape: (2, 5)\n",
      "dtype: int64\n"
     ]
    }
   ],
   "source": [
    "b = np.array(\n",
    "    [\n",
    "        [1, 2, 3, 4, 5] , \n",
    "        [4, 5, 6, 7, 8] \n",
    "    ]\n",
    ")\n",
    "print(\"ndim:\", b.ndim)\n",
    "print(\"shape:\", b.shape)\n",
    "print(\"dtype:\", b.dtype)"
   ]
  },
  {
   "cell_type": "code",
   "execution_count": 28,
   "id": "4210d47b-1220-4ad5-9d0c-bf67b0a772a1",
   "metadata": {},
   "outputs": [
    {
     "name": "stdout",
     "output_type": "stream",
     "text": [
      "ndim: 3\n",
      "shape: (2, 3, 5)\n",
      "dtype: int64\n"
     ]
    }
   ],
   "source": [
    "c = np.array(\n",
    "    [\n",
    "        [\n",
    "            [ 1,  2,  3,  4, 5],\n",
    "            [ 5,  6,  7,  8, 9],\n",
    "            [ 9, 10, 11, 12, 13]\n",
    "        ],\n",
    "        [\n",
    "            [13, 14, 15, 16, 17],\n",
    "            [17, 18, 19, 20, 18],\n",
    "            [21, 22, 23, 24, 19]\n",
    "        ]\n",
    "    ]\n",
    ")\n",
    "print(\"ndim:\", c.ndim)\n",
    "print(\"shape:\", c.shape)\n",
    "print(\"dtype:\", c.dtype)\n"
   ]
  }
 ],
 "metadata": {
  "kernelspec": {
   "display_name": "Python 3 (ipykernel)",
   "language": "python",
   "name": "python3"
  },
  "language_info": {
   "codemirror_mode": {
    "name": "ipython",
    "version": 3
   },
   "file_extension": ".py",
   "mimetype": "text/x-python",
   "name": "python",
   "nbconvert_exporter": "python",
   "pygments_lexer": "ipython3",
   "version": "3.13.7"
  }
 },
 "nbformat": 4,
 "nbformat_minor": 5
}
