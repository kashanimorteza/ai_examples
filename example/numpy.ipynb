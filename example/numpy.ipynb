{
  "cells": [
    {
      "cell_type": "markdown",
      "id": "887f1585-c139-47f6-b62a-5aa44e79d673",
      "metadata": {
        "id": "887f1585-c139-47f6-b62a-5aa44e79d673"
      },
      "source": [
        "# Numpy"
      ]
    },
    {
      "cell_type": "code",
      "source": [
        "import numpy as np"
      ],
      "metadata": {
        "id": "d2TQs6PJMQIh"
      },
      "id": "d2TQs6PJMQIh",
      "execution_count": 256,
      "outputs": []
    },
    {
      "cell_type": "markdown",
      "source": [
        "## Array"
      ],
      "metadata": {
        "id": "LlVnzmL3UTvp"
      },
      "id": "LlVnzmL3UTvp"
    },
    {
      "cell_type": "code",
      "execution_count": 257,
      "metadata": {
        "scrolled": true,
        "colab": {
          "base_uri": "https://localhost:8080/"
        },
        "id": "579014bd-7374-4945-a6ea-9896826c1eb4",
        "outputId": "ab3215a8-07db-4acd-feb5-5a9cac9839e6",
        "collapsed": true
      },
      "outputs": [
        {
          "output_type": "stream",
          "name": "stdout",
          "text": [
            "array: [1 2 3 4 5]\n",
            "shape: (5,)\n",
            "shape: (5,)\n",
            "dtype: int64\n",
            "Max: 5\n",
            "Min: 1\n",
            "Sum: 15\n",
            "size: 5\n",
            "item-size: 8\n"
          ]
        }
      ],
      "source": [
        "a = np.array(\n",
        "    [\n",
        "        1, 2, 3, 4, 5\n",
        "    ]\n",
        ")\n",
        "print(\"array:\", a)\n",
        "print(\"shape:\", a.shape)\n",
        "print(\"shape:\", np.shape(a))\n",
        "print(\"dtype:\", a.dtype)    # data type\n",
        "print(\"Max:\", a.max())      # Max\n",
        "print(\"Min:\", a.min())      # Min\n",
        "print(\"Sum:\", a.sum())      # Sum\n",
        "print(\"size:\", a.size)      # size\n",
        "print(\"item-size:\", a.itemsize)  # itemsize"
      ],
      "id": "579014bd-7374-4945-a6ea-9896826c1eb4"
    },
    {
      "cell_type": "code",
      "execution_count": 258,
      "metadata": {
        "scrolled": true,
        "colab": {
          "base_uri": "https://localhost:8080/"
        },
        "outputId": "dfdcd439-8980-441e-8f76-6d0200b0720c",
        "collapsed": true,
        "id": "07vOGx9e1fDQ"
      },
      "outputs": [
        {
          "output_type": "stream",
          "name": "stdout",
          "text": [
            "ndim: 1\n",
            "shape: (5,)\n"
          ]
        }
      ],
      "source": [
        "a = np.array(\n",
        "    [\n",
        "        1, 2, 3, 4, 5\n",
        "    ]\n",
        ")\n",
        "print(\"ndim:\", a.ndim)      # number of dimensions\n",
        "print(\"shape:\", a.shape)    # size of each dimension"
      ],
      "id": "07vOGx9e1fDQ"
    },
    {
      "cell_type": "code",
      "execution_count": 259,
      "id": "cb32ee8e-1d57-4c00-ac6b-5fae1200d0af",
      "metadata": {
        "colab": {
          "base_uri": "https://localhost:8080/"
        },
        "collapsed": true,
        "id": "cb32ee8e-1d57-4c00-ac6b-5fae1200d0af",
        "outputId": "0863cfd4-c2e7-4f54-f912-c9e8df9e64c1"
      },
      "outputs": [
        {
          "output_type": "stream",
          "name": "stdout",
          "text": [
            "ndim: 2\n",
            "shape: (2, 5)\n"
          ]
        }
      ],
      "source": [
        "a = np.array(\n",
        "    [\n",
        "        [1, 2, 3, 4, 5] ,\n",
        "        [4, 5, 6, 7, 8]\n",
        "    ]\n",
        ")\n",
        "print(\"ndim:\", a.ndim)\n",
        "print(\"shape:\", a.shape)"
      ]
    },
    {
      "cell_type": "code",
      "execution_count": 260,
      "id": "4210d47b-1220-4ad5-9d0c-bf67b0a772a1",
      "metadata": {
        "colab": {
          "base_uri": "https://localhost:8080/"
        },
        "collapsed": true,
        "id": "4210d47b-1220-4ad5-9d0c-bf67b0a772a1",
        "outputId": "143c8ea5-9801-43ec-9de5-105f7d6bccae"
      },
      "outputs": [
        {
          "output_type": "stream",
          "name": "stdout",
          "text": [
            "ndim: 3\n",
            "shape: (2, 3, 5)\n"
          ]
        }
      ],
      "source": [
        "a = np.array(\n",
        "    [\n",
        "        [\n",
        "            [ 1,  2,  3,  4, 5],\n",
        "            [ 5,  6,  7,  8, 9],\n",
        "            [ 9, 10, 11, 12, 13]\n",
        "        ],\n",
        "        [\n",
        "            [13, 14, 15, 16, 17],\n",
        "            [17, 18, 19, 20, 18],\n",
        "            [21, 22, 23, 24, 19]\n",
        "        ]\n",
        "    ]\n",
        ")\n",
        "print(\"ndim:\", a.ndim)\n",
        "print(\"shape:\", a.shape)\n"
      ]
    },
    {
      "cell_type": "markdown",
      "source": [
        "## Change"
      ],
      "metadata": {
        "id": "pwQTv35ksXs9"
      },
      "id": "pwQTv35ksXs9"
    },
    {
      "cell_type": "markdown",
      "source": [
        "### ReShape"
      ],
      "metadata": {
        "id": "jPjRURcm3jZQ"
      },
      "id": "jPjRURcm3jZQ"
    },
    {
      "cell_type": "code",
      "source": [
        "a = np.array(\n",
        "    [\n",
        "      [ 1,  2,  3,  4, 5],\n",
        "      [ 6,  7,  8,  9, 10],\n",
        "      [ 11, 12, 13, 14, 15]\n",
        "    ]\n",
        ")\n",
        "print(\"shape:\", a.shape)"
      ],
      "metadata": {
        "colab": {
          "base_uri": "https://localhost:8080/"
        },
        "id": "wTLghG1IsdCb",
        "outputId": "6448cd8f-260b-4124-b1ec-2d0068466be3"
      },
      "id": "wTLghG1IsdCb",
      "execution_count": 261,
      "outputs": [
        {
          "output_type": "stream",
          "name": "stdout",
          "text": [
            "shape: (3, 5)\n"
          ]
        }
      ]
    },
    {
      "cell_type": "code",
      "source": [
        "b = a.reshape(5,3)\n",
        "print(b)"
      ],
      "metadata": {
        "colab": {
          "base_uri": "https://localhost:8080/"
        },
        "id": "GdTOtPFvsc1P",
        "outputId": "d10eb638-27d0-4535-98a9-56300ec7f3eb"
      },
      "id": "GdTOtPFvsc1P",
      "execution_count": 262,
      "outputs": [
        {
          "output_type": "stream",
          "name": "stdout",
          "text": [
            "[[ 1  2  3]\n",
            " [ 4  5  6]\n",
            " [ 7  8  9]\n",
            " [10 11 12]\n",
            " [13 14 15]]\n"
          ]
        }
      ]
    },
    {
      "cell_type": "markdown",
      "source": [
        "## Where"
      ],
      "metadata": {
        "id": "OB4wwNUOyUdD"
      },
      "id": "OB4wwNUOyUdD"
    },
    {
      "cell_type": "code",
      "source": [
        "a = np.array(\n",
        "    [\n",
        "      [ 1,  2,  3,  4, 5],\n",
        "      [ 6,  7,  8,  9, 10],\n",
        "      [ 11, 12, 13, 14, 15]\n",
        "    ]\n",
        ")"
      ],
      "metadata": {
        "id": "8RMHZmrhwMfC"
      },
      "execution_count": 263,
      "outputs": [],
      "id": "8RMHZmrhwMfC"
    },
    {
      "cell_type": "code",
      "source": [
        "a>14"
      ],
      "metadata": {
        "collapsed": true,
        "colab": {
          "base_uri": "https://localhost:8080/"
        },
        "id": "CP941v2Gyend",
        "outputId": "8d3f0f47-9a40-4c35-dba4-95d39b19de18"
      },
      "id": "CP941v2Gyend",
      "execution_count": 264,
      "outputs": [
        {
          "output_type": "execute_result",
          "data": {
            "text/plain": [
              "array([[False, False, False, False, False],\n",
              "       [False, False, False, False, False],\n",
              "       [False, False, False, False,  True]])"
            ]
          },
          "metadata": {},
          "execution_count": 264
        }
      ]
    },
    {
      "cell_type": "code",
      "source": [
        "print(np.sum(a>14))"
      ],
      "metadata": {
        "colab": {
          "base_uri": "https://localhost:8080/"
        },
        "id": "NYBIFEoTyan7",
        "outputId": "8a58f3f5-77b3-4979-8a07-557b52dbf1cc"
      },
      "id": "NYBIFEoTyan7",
      "execution_count": 265,
      "outputs": [
        {
          "output_type": "stream",
          "name": "stdout",
          "text": [
            "1\n"
          ]
        }
      ]
    },
    {
      "cell_type": "code",
      "source": [
        "np.where(a>14, 1, 0)"
      ],
      "metadata": {
        "colab": {
          "base_uri": "https://localhost:8080/"
        },
        "id": "a8d6UMXJyadW",
        "outputId": "9c774227-d767-4854-88dc-126cbaaa2f06"
      },
      "id": "a8d6UMXJyadW",
      "execution_count": 266,
      "outputs": [
        {
          "output_type": "execute_result",
          "data": {
            "text/plain": [
              "array([[0, 0, 0, 0, 0],\n",
              "       [0, 0, 0, 0, 0],\n",
              "       [0, 0, 0, 0, 1]])"
            ]
          },
          "metadata": {},
          "execution_count": 266
        }
      ]
    },
    {
      "cell_type": "markdown",
      "source": [
        "## Fill"
      ],
      "metadata": {
        "id": "F5cAOsuasQ4M"
      },
      "id": "F5cAOsuasQ4M"
    },
    {
      "cell_type": "markdown",
      "source": [
        "### Zeros"
      ],
      "metadata": {
        "id": "WEvGI3qH23ku"
      },
      "id": "WEvGI3qH23ku"
    },
    {
      "cell_type": "code",
      "source": [
        "np.zeros((3, 5))"
      ],
      "metadata": {
        "colab": {
          "base_uri": "https://localhost:8080/"
        },
        "id": "w5WO28dNscjv",
        "outputId": "32961967-9f62-46c3-db0c-537f2f0bf300"
      },
      "id": "w5WO28dNscjv",
      "execution_count": 267,
      "outputs": [
        {
          "output_type": "execute_result",
          "data": {
            "text/plain": [
              "array([[0., 0., 0., 0., 0.],\n",
              "       [0., 0., 0., 0., 0.],\n",
              "       [0., 0., 0., 0., 0.]])"
            ]
          },
          "metadata": {},
          "execution_count": 267
        }
      ]
    },
    {
      "cell_type": "markdown",
      "source": [
        "### Ones"
      ],
      "metadata": {
        "id": "EJ-msdlz25Y8"
      },
      "id": "EJ-msdlz25Y8"
    },
    {
      "cell_type": "code",
      "source": [
        "np.ones((3, 5))"
      ],
      "metadata": {
        "collapsed": true,
        "colab": {
          "base_uri": "https://localhost:8080/"
        },
        "id": "EVSbwoA0zJ2k",
        "outputId": "803eab52-587e-4f29-94b0-3f4a6cddd9ac"
      },
      "id": "EVSbwoA0zJ2k",
      "execution_count": 268,
      "outputs": [
        {
          "output_type": "execute_result",
          "data": {
            "text/plain": [
              "array([[1., 1., 1., 1., 1.],\n",
              "       [1., 1., 1., 1., 1.],\n",
              "       [1., 1., 1., 1., 1.]])"
            ]
          },
          "metadata": {},
          "execution_count": 268
        }
      ]
    },
    {
      "cell_type": "markdown",
      "source": [
        "### Full"
      ],
      "metadata": {
        "id": "XAea__Ai21i6"
      },
      "id": "XAea__Ai21i6"
    },
    {
      "cell_type": "code",
      "source": [
        "m1 = np.full((4, 5), 1)\n",
        "m2 = np.full((4, 5), 2)\n",
        "m3 = np.full((5), 3)\n",
        "print(m1)\n",
        "print(m2)\n",
        "print(m3)"
      ],
      "metadata": {
        "colab": {
          "base_uri": "https://localhost:8080/"
        },
        "collapsed": true,
        "id": "KjRCSn5GL17M",
        "outputId": "48aafedd-d60e-49e1-cb12-99d7c5166c31"
      },
      "id": "KjRCSn5GL17M",
      "execution_count": 269,
      "outputs": [
        {
          "output_type": "stream",
          "name": "stdout",
          "text": [
            "[[1 1 1 1 1]\n",
            " [1 1 1 1 1]\n",
            " [1 1 1 1 1]\n",
            " [1 1 1 1 1]]\n",
            "[[2 2 2 2 2]\n",
            " [2 2 2 2 2]\n",
            " [2 2 2 2 2]\n",
            " [2 2 2 2 2]]\n",
            "[3 3 3 3 3]\n"
          ]
        }
      ]
    },
    {
      "cell_type": "markdown",
      "source": [
        "### Arange"
      ],
      "metadata": {
        "id": "U67YmOBA2ocK"
      },
      "id": "U67YmOBA2ocK"
    },
    {
      "cell_type": "code",
      "source": [
        "a = np.arange(1, 15)\n",
        "b = np.arange(1, 15, 3)\n",
        "print(a)\n",
        "print(b)"
      ],
      "metadata": {
        "colab": {
          "base_uri": "https://localhost:8080/"
        },
        "collapsed": true,
        "id": "kL2058OJUd36",
        "outputId": "8602bfeb-df1d-4c27-a255-8ce59b06f249"
      },
      "id": "kL2058OJUd36",
      "execution_count": 270,
      "outputs": [
        {
          "output_type": "stream",
          "name": "stdout",
          "text": [
            "[ 1  2  3  4  5  6  7  8  9 10 11 12 13 14]\n",
            "[ 1  4  7 10 13]\n"
          ]
        }
      ]
    },
    {
      "cell_type": "markdown",
      "source": [
        "### Linspace"
      ],
      "metadata": {
        "id": "FocjpVXz2wn9"
      },
      "id": "FocjpVXz2wn9"
    },
    {
      "cell_type": "code",
      "source": [
        "a = np.linspace(1, 15, 10)\n",
        "print(a)\n",
        "len(a)"
      ],
      "metadata": {
        "outputId": "c1138b99-454f-4a95-e45a-bc7d6b3384f1",
        "colab": {
          "base_uri": "https://localhost:8080/"
        },
        "collapsed": true,
        "id": "gTJdMwloVViq"
      },
      "execution_count": 271,
      "outputs": [
        {
          "output_type": "stream",
          "name": "stdout",
          "text": [
            "[ 1.          2.55555556  4.11111111  5.66666667  7.22222222  8.77777778\n",
            " 10.33333333 11.88888889 13.44444444 15.        ]\n"
          ]
        },
        {
          "output_type": "execute_result",
          "data": {
            "text/plain": [
              "10"
            ]
          },
          "metadata": {},
          "execution_count": 271
        }
      ],
      "id": "gTJdMwloVViq"
    },
    {
      "cell_type": "markdown",
      "source": [
        "## Random"
      ],
      "metadata": {
        "id": "6jpOOmys4AUX"
      },
      "id": "6jpOOmys4AUX"
    },
    {
      "cell_type": "markdown",
      "source": [
        "### rand"
      ],
      "metadata": {
        "id": "yPIvw25h755N"
      },
      "id": "yPIvw25h755N"
    },
    {
      "cell_type": "code",
      "source": [
        "np.random.rand(5)"
      ],
      "metadata": {
        "colab": {
          "base_uri": "https://localhost:8080/"
        },
        "id": "SYyz5vr44DFS",
        "outputId": "56637cc2-dfe8-494a-bba6-2fe42c2fb55a"
      },
      "id": "SYyz5vr44DFS",
      "execution_count": 272,
      "outputs": [
        {
          "output_type": "execute_result",
          "data": {
            "text/plain": [
              "array([0.31403157, 0.65758997, 0.92662401, 0.81574072, 0.95032824])"
            ]
          },
          "metadata": {},
          "execution_count": 272
        }
      ]
    },
    {
      "cell_type": "code",
      "source": [
        "np.random.rand(3, 5)"
      ],
      "metadata": {
        "colab": {
          "base_uri": "https://localhost:8080/"
        },
        "id": "_3vVpJAb4EL7",
        "outputId": "2808b3b8-72f0-4ae1-c108-0a4bbcc76dbf"
      },
      "id": "_3vVpJAb4EL7",
      "execution_count": 273,
      "outputs": [
        {
          "output_type": "execute_result",
          "data": {
            "text/plain": [
              "array([[0.133181  , 0.41120716, 0.00277255, 0.62408199, 0.43978641],\n",
              "       [0.25897163, 0.38928358, 0.79587357, 0.93046879, 0.00229946],\n",
              "       [0.49937119, 0.42311563, 0.43840421, 0.54384951, 0.33993848]])"
            ]
          },
          "metadata": {},
          "execution_count": 273
        }
      ]
    },
    {
      "cell_type": "markdown",
      "source": [
        "### random"
      ],
      "metadata": {
        "id": "fN_uly7d79y8"
      },
      "id": "fN_uly7d79y8"
    },
    {
      "cell_type": "code",
      "source": [
        "np.random.random(5)"
      ],
      "metadata": {
        "colab": {
          "base_uri": "https://localhost:8080/"
        },
        "id": "ON9_s5394EE5",
        "outputId": "aabf1d57-939e-46b1-c673-762b27aa1f4e"
      },
      "id": "ON9_s5394EE5",
      "execution_count": 274,
      "outputs": [
        {
          "output_type": "execute_result",
          "data": {
            "text/plain": [
              "array([0.89108172, 0.82799168, 0.58441256, 0.24017589, 0.83838132])"
            ]
          },
          "metadata": {},
          "execution_count": 274
        }
      ]
    },
    {
      "cell_type": "code",
      "source": [
        "np.random.random((3,5))"
      ],
      "metadata": {
        "colab": {
          "base_uri": "https://localhost:8080/"
        },
        "id": "n3-SHmmd4D9s",
        "outputId": "44326cb6-ad20-4de4-a96b-1c63cd42c153"
      },
      "id": "n3-SHmmd4D9s",
      "execution_count": 275,
      "outputs": [
        {
          "output_type": "execute_result",
          "data": {
            "text/plain": [
              "array([[0.66942819, 0.25664834, 0.44363572, 0.85247808, 0.64162703],\n",
              "       [0.7977059 , 0.35654771, 0.70252065, 0.75617513, 0.29005343],\n",
              "       [0.20880989, 0.28503974, 0.46383034, 0.63404265, 0.05619154]])"
            ]
          },
          "metadata": {},
          "execution_count": 275
        }
      ]
    },
    {
      "cell_type": "markdown",
      "source": [
        "### randint"
      ],
      "metadata": {
        "id": "PB8x6iln8FMr"
      },
      "id": "PB8x6iln8FMr"
    },
    {
      "cell_type": "code",
      "source": [
        "a = np.random.randint(10)\n",
        "b = np.random.randint(5, 15)\n",
        "c = np.random.randint(5, 15, 3)\n",
        "d = np.random.randint(0, 9, 9).reshape((3,3))\n",
        "print(\"a:\", a)\n",
        "print(\"b:\", b)\n",
        "print(\"c:\", c)\n",
        "print(\"d:\", d)"
      ],
      "metadata": {
        "colab": {
          "base_uri": "https://localhost:8080/"
        },
        "id": "-BxRmv3S4hm5",
        "outputId": "8f07e311-7fa6-4442-a8e5-fdb8ea3a45e8"
      },
      "id": "-BxRmv3S4hm5",
      "execution_count": 276,
      "outputs": [
        {
          "output_type": "stream",
          "name": "stdout",
          "text": [
            "a: 9\n",
            "b: 9\n",
            "c: [11  6  7]\n",
            "d: [[5 0 8]\n",
            " [2 0 4]\n",
            " [5 4 3]]\n"
          ]
        }
      ]
    },
    {
      "cell_type": "markdown",
      "source": [
        "### shuffle"
      ],
      "metadata": {
        "id": "Tt6L6SkO7uda"
      },
      "id": "Tt6L6SkO7uda"
    },
    {
      "cell_type": "code",
      "source": [
        "a = np.arange(1,22).reshape((7,3))\n",
        "print(a)"
      ],
      "metadata": {
        "outputId": "475d8784-bb26-47ab-bf5a-630aed391ba3",
        "colab": {
          "base_uri": "https://localhost:8080/"
        },
        "id": "GfZfUjyl5HOB"
      },
      "execution_count": 277,
      "outputs": [
        {
          "output_type": "stream",
          "name": "stdout",
          "text": [
            "[[ 1  2  3]\n",
            " [ 4  5  6]\n",
            " [ 7  8  9]\n",
            " [10 11 12]\n",
            " [13 14 15]\n",
            " [16 17 18]\n",
            " [19 20 21]]\n"
          ]
        }
      ],
      "id": "GfZfUjyl5HOB"
    },
    {
      "cell_type": "code",
      "source": [
        "np.random.shuffle(a)\n",
        "print(a)"
      ],
      "metadata": {
        "colab": {
          "base_uri": "https://localhost:8080/"
        },
        "id": "adXCI0v64hhu",
        "outputId": "1be27043-4213-46cf-b978-fa2939f50752"
      },
      "id": "adXCI0v64hhu",
      "execution_count": 278,
      "outputs": [
        {
          "output_type": "stream",
          "name": "stdout",
          "text": [
            "[[10 11 12]\n",
            " [ 4  5  6]\n",
            " [ 1  2  3]\n",
            " [19 20 21]\n",
            " [ 7  8  9]\n",
            " [13 14 15]\n",
            " [16 17 18]]\n"
          ]
        }
      ]
    },
    {
      "cell_type": "markdown",
      "source": [
        "### normal"
      ],
      "metadata": {
        "id": "wG4pZmb-70SO"
      },
      "id": "wG4pZmb-70SO"
    },
    {
      "cell_type": "code",
      "source": [
        "np.random.normal()"
      ],
      "metadata": {
        "colab": {
          "base_uri": "https://localhost:8080/"
        },
        "id": "66H5lKbc4hZR",
        "outputId": "bb91f44c-68f3-4a15-da47-557cadc9a079"
      },
      "id": "66H5lKbc4hZR",
      "execution_count": 282,
      "outputs": [
        {
          "output_type": "execute_result",
          "data": {
            "text/plain": [
              "1.6788068985939455"
            ]
          },
          "metadata": {},
          "execution_count": 282
        }
      ]
    },
    {
      "cell_type": "code",
      "source": [
        "np.random.normal(size=5)"
      ],
      "metadata": {
        "colab": {
          "base_uri": "https://localhost:8080/"
        },
        "id": "gXqTyQ5u8y4v",
        "outputId": "53207808-d547-4725-fa37-f4a4b12ffe92"
      },
      "id": "gXqTyQ5u8y4v",
      "execution_count": 284,
      "outputs": [
        {
          "output_type": "execute_result",
          "data": {
            "text/plain": [
              "array([-1.79122971,  0.79290761, -1.60394048, -1.20730558, -1.98129495])"
            ]
          },
          "metadata": {},
          "execution_count": 284
        }
      ]
    },
    {
      "cell_type": "markdown",
      "source": [
        "### uniform"
      ],
      "metadata": {
        "id": "ZVlO17L_8_Nm"
      },
      "id": "ZVlO17L_8_Nm"
    },
    {
      "cell_type": "code",
      "source": [
        "np.random.uniform()"
      ],
      "metadata": {
        "colab": {
          "base_uri": "https://localhost:8080/"
        },
        "id": "n7Vi10g08-Oi",
        "outputId": "9d7ca70c-61eb-47c8-d7bc-79c7807205d8"
      },
      "id": "n7Vi10g08-Oi",
      "execution_count": 285,
      "outputs": [
        {
          "output_type": "execute_result",
          "data": {
            "text/plain": [
              "0.5379778578504014"
            ]
          },
          "metadata": {},
          "execution_count": 285
        }
      ]
    },
    {
      "cell_type": "code",
      "source": [
        "np.random.uniform(size=5)"
      ],
      "metadata": {
        "colab": {
          "base_uri": "https://localhost:8080/"
        },
        "id": "y1ZBfdS-8-Ju",
        "outputId": "040548c2-8859-429c-e955-a712de59fb5c"
      },
      "id": "y1ZBfdS-8-Ju",
      "execution_count": 287,
      "outputs": [
        {
          "output_type": "execute_result",
          "data": {
            "text/plain": [
              "array([0.11247261, 0.81057467, 0.05388243, 0.25379226, 0.7022459 ])"
            ]
          },
          "metadata": {},
          "execution_count": 287
        }
      ]
    },
    {
      "cell_type": "markdown",
      "source": [],
      "metadata": {
        "id": "BynvKoCJ897z"
      },
      "id": "BynvKoCJ897z"
    },
    {
      "cell_type": "markdown",
      "source": [
        "### choice"
      ],
      "metadata": {
        "id": "7cRxH-969wCT"
      },
      "id": "7cRxH-969wCT"
    },
    {
      "cell_type": "code",
      "source": [
        "a = [1, 2, 3, 4, 5, 6, 7, 8, 9]"
      ],
      "metadata": {
        "colab": {
          "base_uri": "https://localhost:8080/"
        },
        "id": "zgBUHqaT9ztM",
        "outputId": "1f6467cb-6bf9-4673-99aa-31d3f947752b"
      },
      "id": "zgBUHqaT9ztM",
      "execution_count": 294,
      "outputs": [
        {
          "output_type": "stream",
          "name": "stdout",
          "text": [
            "4\n",
            "[4 2]\n"
          ]
        }
      ]
    },
    {
      "cell_type": "code",
      "source": [
        "print(np.random.choice(a))"
      ],
      "metadata": {
        "colab": {
          "base_uri": "https://localhost:8080/"
        },
        "id": "wP284_gu-lrn",
        "outputId": "4c2efd99-7772-4c57-9a92-3e17027be285"
      },
      "id": "wP284_gu-lrn",
      "execution_count": 296,
      "outputs": [
        {
          "output_type": "stream",
          "name": "stdout",
          "text": [
            "2\n"
          ]
        }
      ]
    },
    {
      "cell_type": "code",
      "source": [
        "print(np.random.choice(a, size=2))"
      ],
      "metadata": {
        "colab": {
          "base_uri": "https://localhost:8080/"
        },
        "id": "RfKeBxps-loz",
        "outputId": "8e88504c-c032-461b-dada-e5fafea438b6"
      },
      "id": "RfKeBxps-loz",
      "execution_count": 298,
      "outputs": [
        {
          "output_type": "stream",
          "name": "stdout",
          "text": [
            "[6 8]\n"
          ]
        }
      ]
    },
    {
      "cell_type": "code",
      "source": [
        "print(np.random.choice(a, size=(3, 3)))"
      ],
      "metadata": {
        "colab": {
          "base_uri": "https://localhost:8080/"
        },
        "id": "P2WdtB2J-lkm",
        "outputId": "ce871034-46dc-4aef-f7b4-55f04a5a1172"
      },
      "id": "P2WdtB2J-lkm",
      "execution_count": 300,
      "outputs": [
        {
          "output_type": "stream",
          "name": "stdout",
          "text": [
            "[[8 2 3]\n",
            " [6 2 1]\n",
            " [5 7 1]]\n"
          ]
        }
      ]
    },
    {
      "cell_type": "code",
      "source": [],
      "metadata": {
        "id": "8-h2RitM-lSJ"
      },
      "id": "8-h2RitM-lSJ",
      "execution_count": null,
      "outputs": []
    },
    {
      "cell_type": "markdown",
      "source": [
        "## Amaliat"
      ],
      "metadata": {
        "id": "BQwuJ5sx0SEL"
      },
      "id": "BQwuJ5sx0SEL"
    },
    {
      "cell_type": "code",
      "source": [
        "r = m1*m2\n",
        "print(r)"
      ],
      "metadata": {
        "colab": {
          "base_uri": "https://localhost:8080/"
        },
        "outputId": "422edd36-6612-4dc8-f5cb-0bfe3fb185a3",
        "id": "3jmsSr69Oj0R"
      },
      "execution_count": 279,
      "outputs": [
        {
          "output_type": "stream",
          "name": "stdout",
          "text": [
            "[[2 2 2 2 2]\n",
            " [2 2 2 2 2]\n",
            " [2 2 2 2 2]\n",
            " [2 2 2 2 2]]\n"
          ]
        }
      ],
      "id": "3jmsSr69Oj0R"
    },
    {
      "cell_type": "code",
      "source": [
        "r = m1 @ m2.T  # Transpose m2\n",
        "print(r)"
      ],
      "metadata": {
        "colab": {
          "base_uri": "https://localhost:8080/"
        },
        "collapsed": true,
        "id": "UAJQlxVXMmsW",
        "outputId": "f5ca41d6-458f-4cd6-c403-fff87a5143fa"
      },
      "id": "UAJQlxVXMmsW",
      "execution_count": 280,
      "outputs": [
        {
          "output_type": "stream",
          "name": "stdout",
          "text": [
            "[[10 10 10 10]\n",
            " [10 10 10 10]\n",
            " [10 10 10 10]\n",
            " [10 10 10 10]]\n"
          ]
        }
      ]
    },
    {
      "cell_type": "code",
      "source": [
        "r = m1.dot(m2.T)  # Transpose m2\n",
        "print(r)"
      ],
      "metadata": {
        "colab": {
          "base_uri": "https://localhost:8080/"
        },
        "collapsed": true,
        "id": "uGMT-ADEOSRt",
        "outputId": "1bbf3188-7bad-4430-a558-cdc9bc432adb"
      },
      "id": "uGMT-ADEOSRt",
      "execution_count": 281,
      "outputs": [
        {
          "output_type": "stream",
          "name": "stdout",
          "text": [
            "[[10 10 10 10]\n",
            " [10 10 10 10]\n",
            " [10 10 10 10]\n",
            " [10 10 10 10]]\n"
          ]
        }
      ]
    }
  ],
  "metadata": {
    "kernelspec": {
      "display_name": "Python 3 (ipykernel)",
      "language": "python",
      "name": "python3"
    },
    "language_info": {
      "codemirror_mode": {
        "name": "ipython",
        "version": 3
      },
      "file_extension": ".py",
      "mimetype": "text/x-python",
      "name": "python",
      "nbconvert_exporter": "python",
      "pygments_lexer": "ipython3",
      "version": "3.13.7"
    },
    "colab": {
      "provenance": [],
      "collapsed_sections": [
        "F5cAOsuasQ4M"
      ],
      "toc_visible": true
    }
  },
  "nbformat": 4,
  "nbformat_minor": 5
}