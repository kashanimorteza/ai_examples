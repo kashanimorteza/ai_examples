{
  "cells": [
    {
      "cell_type": "markdown",
      "id": "887f1585-c139-47f6-b62a-5aa44e79d673",
      "metadata": {
        "id": "887f1585-c139-47f6-b62a-5aa44e79d673"
      },
      "source": [
        "# Numpy"
      ]
    },
    {
      "cell_type": "code",
      "source": [
        "import numpy as np"
      ],
      "metadata": {
        "id": "d2TQs6PJMQIh"
      },
      "id": "d2TQs6PJMQIh",
      "execution_count": 29,
      "outputs": []
    },
    {
      "cell_type": "markdown",
      "id": "d2566059-88c1-4cc7-8dab-a88e059bd81c",
      "metadata": {
        "id": "d2566059-88c1-4cc7-8dab-a88e059bd81c"
      },
      "source": [
        "## Array"
      ]
    },
    {
      "cell_type": "markdown",
      "source": [
        "### Section-1"
      ],
      "metadata": {
        "id": "LlVnzmL3UTvp"
      },
      "id": "LlVnzmL3UTvp"
    },
    {
      "cell_type": "markdown",
      "source": [
        "Example-1\n",
        "\n"
      ],
      "metadata": {
        "id": "PeHisLk5TT9J"
      },
      "id": "PeHisLk5TT9J"
    },
    {
      "cell_type": "code",
      "execution_count": 81,
      "metadata": {
        "scrolled": true,
        "colab": {
          "base_uri": "https://localhost:8080/"
        },
        "id": "579014bd-7374-4945-a6ea-9896826c1eb4",
        "outputId": "8c885cd8-3b1b-4f28-b205-9e3d0758bd72",
        "collapsed": true
      },
      "outputs": [
        {
          "output_type": "stream",
          "name": "stdout",
          "text": [
            "ndim: 1\n",
            "shape: (5,)\n",
            "dtype: int64\n",
            "Max: 5\n",
            "Min: 1\n",
            "Sum: 15\n"
          ]
        }
      ],
      "source": [
        "a = np.array(\n",
        "    [\n",
        "        1, 2, 3, 4, 5\n",
        "    ]\n",
        ")\n",
        "print(\"ndim:\", a.ndim)      # number of dimensions\n",
        "print(\"shape:\", a.shape)    # size of each dimension\n",
        "print(\"dtype:\", a.dtype)    # data type\n",
        "print(\"Max:\", np.max(a))    # Max\n",
        "print(\"Min:\", np.min(a))    # Min\n",
        "print(\"Sum:\", np.sum(a))    # Sum"
      ],
      "id": "579014bd-7374-4945-a6ea-9896826c1eb4"
    },
    {
      "cell_type": "markdown",
      "source": [
        "Example-2"
      ],
      "metadata": {
        "id": "5Xe3WptDTV9R"
      },
      "id": "5Xe3WptDTV9R"
    },
    {
      "cell_type": "code",
      "execution_count": 94,
      "id": "cb32ee8e-1d57-4c00-ac6b-5fae1200d0af",
      "metadata": {
        "colab": {
          "base_uri": "https://localhost:8080/"
        },
        "collapsed": true,
        "id": "cb32ee8e-1d57-4c00-ac6b-5fae1200d0af",
        "outputId": "0154fc27-4943-4143-fb8c-21acc3e7a0f0"
      },
      "outputs": [
        {
          "output_type": "stream",
          "name": "stdout",
          "text": [
            "ndim: 2\n",
            "shape: (2, 5)\n",
            "dtype: int64\n"
          ]
        }
      ],
      "source": [
        "a = np.array(\n",
        "    [\n",
        "        [1, 2, 3, 4, 5] ,\n",
        "        [4, 5, 6, 7, 8]\n",
        "    ]\n",
        ")\n",
        "print(\"ndim:\", a.ndim)\n",
        "print(\"shape:\", a.shape)\n",
        "print(\"dtype:\", a.dtype)"
      ]
    },
    {
      "cell_type": "markdown",
      "source": [
        "Example-3"
      ],
      "metadata": {
        "id": "7A0nXfasTX7x"
      },
      "id": "7A0nXfasTX7x"
    },
    {
      "cell_type": "code",
      "execution_count": 95,
      "id": "4210d47b-1220-4ad5-9d0c-bf67b0a772a1",
      "metadata": {
        "colab": {
          "base_uri": "https://localhost:8080/"
        },
        "collapsed": true,
        "id": "4210d47b-1220-4ad5-9d0c-bf67b0a772a1",
        "outputId": "2e8d8e2e-4661-4f4f-84c3-0f09602c8b9e"
      },
      "outputs": [
        {
          "output_type": "stream",
          "name": "stdout",
          "text": [
            "ndim: 3\n",
            "shape: (2, 3, 5)\n",
            "dtype: int64\n"
          ]
        }
      ],
      "source": [
        "a = np.array(\n",
        "    [\n",
        "        [\n",
        "            [ 1,  2,  3,  4, 5],\n",
        "            [ 5,  6,  7,  8, 9],\n",
        "            [ 9, 10, 11, 12, 13]\n",
        "        ],\n",
        "        [\n",
        "            [13, 14, 15, 16, 17],\n",
        "            [17, 18, 19, 20, 18],\n",
        "            [21, 22, 23, 24, 19]\n",
        "        ]\n",
        "    ]\n",
        ")\n",
        "print(\"ndim:\", a.ndim)\n",
        "print(\"shape:\", a.shape)\n",
        "print(\"dtype:\", a.dtype)\n"
      ]
    },
    {
      "cell_type": "markdown",
      "source": [
        "### Section-2"
      ],
      "metadata": {
        "id": "PKDcalF-UZe1"
      },
      "id": "PKDcalF-UZe1"
    },
    {
      "cell_type": "markdown",
      "source": [
        "Example-1"
      ],
      "metadata": {
        "id": "c6Nf44naUb1q"
      },
      "id": "c6Nf44naUb1q"
    },
    {
      "cell_type": "code",
      "source": [
        "a = np.arange(1, 15)\n",
        "b = np.arange(1, 15, 3)\n",
        "print(a)\n",
        "print(b)"
      ],
      "metadata": {
        "colab": {
          "base_uri": "https://localhost:8080/"
        },
        "collapsed": true,
        "id": "kL2058OJUd36",
        "outputId": "8e013b18-914b-426b-aee5-dc9e7593924b"
      },
      "id": "kL2058OJUd36",
      "execution_count": 68,
      "outputs": [
        {
          "output_type": "stream",
          "name": "stdout",
          "text": [
            "[ 1  2  3  4  5  6  7  8  9 10 11 12 13 14]\n",
            "[ 1  4  7 10 13]\n"
          ]
        }
      ]
    },
    {
      "cell_type": "markdown",
      "source": [
        "Example-2"
      ],
      "metadata": {
        "id": "m3XzYfKkUlqX"
      },
      "id": "m3XzYfKkUlqX"
    },
    {
      "cell_type": "code",
      "source": [
        "a = np.linspace(1, 15, 10)\n",
        "print(a)\n",
        "len(a)"
      ],
      "metadata": {
        "outputId": "1b641409-b1dd-48a2-d792-d1d941584349",
        "colab": {
          "base_uri": "https://localhost:8080/"
        },
        "collapsed": true,
        "id": "gTJdMwloVViq"
      },
      "execution_count": 75,
      "outputs": [
        {
          "output_type": "stream",
          "name": "stdout",
          "text": [
            "[ 1.          2.55555556  4.11111111  5.66666667  7.22222222  8.77777778\n",
            " 10.33333333 11.88888889 13.44444444 15.        ]\n"
          ]
        },
        {
          "output_type": "execute_result",
          "data": {
            "text/plain": [
              "10"
            ]
          },
          "metadata": {},
          "execution_count": 75
        }
      ],
      "id": "gTJdMwloVViq"
    },
    {
      "cell_type": "markdown",
      "source": [
        "### Section-3"
      ],
      "metadata": {
        "id": "wAqyQYJnLzsi"
      },
      "id": "wAqyQYJnLzsi"
    },
    {
      "cell_type": "code",
      "source": [
        "m1 = np.full((4, 5), 1)\n",
        "m2 = np.full((4, 5), 2)\n",
        "m3 = np.full((5), 3)\n",
        "print(m1)\n",
        "print(m2)\n",
        "print(m3)"
      ],
      "metadata": {
        "colab": {
          "base_uri": "https://localhost:8080/"
        },
        "id": "KjRCSn5GL17M",
        "outputId": "1e0f88ec-8f1b-4b9d-9bfc-90a24eb4b012"
      },
      "id": "KjRCSn5GL17M",
      "execution_count": 96,
      "outputs": [
        {
          "output_type": "stream",
          "name": "stdout",
          "text": [
            "[[1 1 1 1 1]\n",
            " [1 1 1 1 1]\n",
            " [1 1 1 1 1]\n",
            " [1 1 1 1 1]]\n",
            "[[2 2 2 2 2]\n",
            " [2 2 2 2 2]\n",
            " [2 2 2 2 2]\n",
            " [2 2 2 2 2]]\n",
            "[3 3 3 3 3]\n"
          ]
        }
      ]
    },
    {
      "cell_type": "code",
      "source": [
        "r = m1*m2\n",
        "print(r)"
      ],
      "metadata": {
        "colab": {
          "base_uri": "https://localhost:8080/"
        },
        "outputId": "66140e41-df4d-441b-deb6-5766eea64e33",
        "id": "3jmsSr69Oj0R"
      },
      "execution_count": 97,
      "outputs": [
        {
          "output_type": "stream",
          "name": "stdout",
          "text": [
            "[[2 2 2 2 2]\n",
            " [2 2 2 2 2]\n",
            " [2 2 2 2 2]\n",
            " [2 2 2 2 2]]\n"
          ]
        }
      ],
      "id": "3jmsSr69Oj0R"
    },
    {
      "cell_type": "code",
      "source": [
        "r = m1 @ m2.T  # Transpose m2\n",
        "print(r)"
      ],
      "metadata": {
        "colab": {
          "base_uri": "https://localhost:8080/"
        },
        "collapsed": true,
        "id": "UAJQlxVXMmsW",
        "outputId": "16091d23-4fb9-465f-e914-9237f4ff6e4f"
      },
      "id": "UAJQlxVXMmsW",
      "execution_count": 98,
      "outputs": [
        {
          "output_type": "stream",
          "name": "stdout",
          "text": [
            "[[10 10 10 10]\n",
            " [10 10 10 10]\n",
            " [10 10 10 10]\n",
            " [10 10 10 10]]\n"
          ]
        }
      ]
    },
    {
      "cell_type": "code",
      "source": [
        "r = m1.dot(m2.T)  # Transpose m2\n",
        "print(r)"
      ],
      "metadata": {
        "colab": {
          "base_uri": "https://localhost:8080/"
        },
        "collapsed": true,
        "id": "uGMT-ADEOSRt",
        "outputId": "f073405d-c106-4282-d31e-3b1de85303fb"
      },
      "id": "uGMT-ADEOSRt",
      "execution_count": 93,
      "outputs": [
        {
          "output_type": "stream",
          "name": "stdout",
          "text": [
            "[[10 10 10 10]\n",
            " [10 10 10 10]\n",
            " [10 10 10 10]\n",
            " [10 10 10 10]]\n"
          ]
        }
      ]
    }
  ],
  "metadata": {
    "kernelspec": {
      "display_name": "Python 3 (ipykernel)",
      "language": "python",
      "name": "python3"
    },
    "language_info": {
      "codemirror_mode": {
        "name": "ipython",
        "version": 3
      },
      "file_extension": ".py",
      "mimetype": "text/x-python",
      "name": "python",
      "nbconvert_exporter": "python",
      "pygments_lexer": "ipython3",
      "version": "3.13.7"
    },
    "colab": {
      "provenance": [],
      "toc_visible": true
    }
  },
  "nbformat": 4,
  "nbformat_minor": 5
}